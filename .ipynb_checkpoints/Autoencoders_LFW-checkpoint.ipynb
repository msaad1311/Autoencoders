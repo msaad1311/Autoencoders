{
 "cells": [
  {
   "cell_type": "markdown",
   "metadata": {},
   "source": [
    "## Libraries"
   ]
  },
  {
   "cell_type": "code",
   "execution_count": 50,
   "metadata": {},
   "outputs": [
    {
     "name": "stdout",
     "output_type": "stream",
     "text": [
      "All the libraries are loaded\n"
     ]
    }
   ],
   "source": [
    "import cv2\n",
    "import matplotlib.pyplot as plt\n",
    "import numpy as np\n",
    "import pandas as pd\n",
    "import tqdm\n",
    "import tarfile\n",
    "import os\n",
    "import random\n",
    "from skimage.metrics import structural_similarity as ssim\n",
    "\n",
    "from sklearn.model_selection import train_test_split\n",
    "\n",
    "from tensorflow.keras.layers import Dense, Flatten, Reshape, Input, InputLayer\n",
    "from tensorflow.keras.models import Sequential, Model\n",
    "\n",
    "print('All the libraries are loaded')"
   ]
  },
  {
   "cell_type": "markdown",
   "metadata": {},
   "source": [
    "## Preliminary "
   ]
  },
  {
   "cell_type": "code",
   "execution_count": 2,
   "metadata": {},
   "outputs": [],
   "source": [
    "# http://www.cs.columbia.edu/CAVE/databases/pubfig/download/lfw_attributes.txt\n",
    "ATTRS_NAME = \"lfw_attributes.txt\"\n",
    "\n",
    "# http://vis-www.cs.umass.edu/lfw/lfw-deepfunneled.tgz\n",
    "IMAGES_NAME = \"lfw-deepfunneled.tgz\"\n",
    "\n",
    "# http://vis-www.cs.umass.edu/lfw/lfw.tgz\n",
    "RAW_IMAGES_NAME = \"lfw.tgz\""
   ]
  },
  {
   "cell_type": "code",
   "execution_count": 43,
   "metadata": {},
   "outputs": [],
   "source": [
    "### Data Loader\n",
    "'''\n",
    "The code of the data loaded is being taken from the website\n",
    "https://stackabuse.com/autoencoders-for-image-reconstruction-in-python-and-keras/\n",
    "'''\n",
    "def decode_image_from_raw_bytes(raw_bytes):\n",
    "    img = cv2.imdecode(np.asarray(bytearray(raw_bytes), dtype=np.uint8), 1)\n",
    "    img = cv2.cvtColor(img, cv2.COLOR_BGR2RGB)\n",
    "    return img\n",
    "def load_lfw_dataset(\n",
    "        use_raw=False,\n",
    "        dx=80, dy=80,\n",
    "        dimx=45, dimy=45):\n",
    "\n",
    "    # Read attrs\n",
    "    df_attrs = pd.read_csv(ATTRS_NAME, sep='\\t', skiprows=1)\n",
    "    df_attrs = pd.DataFrame(df_attrs.iloc[:, :-1].values, columns=df_attrs.columns[1:])\n",
    "    imgs_with_attrs = set(map(tuple, df_attrs[[\"person\", \"imagenum\"]].values))\n",
    "\n",
    "    # Read photos\n",
    "    all_photos = []\n",
    "    photo_ids = []\n",
    "\n",
    "    with tarfile.open(RAW_IMAGES_NAME if use_raw else IMAGES_NAME) as f:\n",
    "        for m in tqdm.notebook.tqdm(f.getmembers()):\n",
    "            # Only process image files from the compressed data\n",
    "            if m.isfile() and m.name.endswith(\".jpg\"):\n",
    "                # Prepare image\n",
    "                img = decode_image_from_raw_bytes(f.extractfile(m).read())\n",
    "\n",
    "                # Crop only faces and resize it\n",
    "                img = img[dy:-dy, dx:-dx]\n",
    "                img = cv2.resize(img, (dimx, dimy))\n",
    "\n",
    "                # Parse person and append it to the collected data\n",
    "                fname = os.path.split(m.name)[-1]\n",
    "                fname_splitted = fname[:-4].replace('_', ' ').split()\n",
    "                person_id = ' '.join(fname_splitted[:-1])\n",
    "                photo_number = int(fname_splitted[-1])\n",
    "                if (person_id, photo_number) in imgs_with_attrs:\n",
    "                    all_photos.append(img)\n",
    "                    photo_ids.append({'person': person_id, 'imagenum': photo_number})\n",
    "\n",
    "    photo_ids = pd.DataFrame(photo_ids)\n",
    "    all_photos = np.stack(all_photos).astype('uint8')\n",
    "\n",
    "    # Preserve photo_ids order!\n",
    "    all_attrs = photo_ids.merge(df_attrs, on=('person', 'imagenum')).drop([\"person\", \"imagenum\"], axis=1)\n",
    "\n",
    "    return all_photos, all_attrs\n",
    "\n",
    "### Model\n",
    "def build_autoencoder(img_shape, code_size):\n",
    "    # The encoder\n",
    "    encoder = Sequential()\n",
    "    encoder.add(InputLayer(img_shape))\n",
    "    encoder.add(Flatten())\n",
    "    encoder.add(Dense(code_size))\n",
    "\n",
    "    # The decoder\n",
    "    decoder = Sequential()\n",
    "    decoder.add(InputLayer((code_size,)))\n",
    "    decoder.add(Dense(np.prod(img_shape))) # np.prod(img_shape) is the same as 32*32*3, it's more generic than saying 3072\n",
    "    decoder.add(Reshape(img_shape))\n",
    "\n",
    "    return encoder, decoder\n",
    "\n",
    "### Visualizations\n",
    "def visualize(img,encoder,decoder):\n",
    "    \"\"\"Draws original, encoded and decoded images\"\"\"\n",
    "    code = encoder.predict(img[None])[0]\n",
    "    reco = decoder.predict(code[None])[0]\n",
    "\n",
    "    plt.subplot(1,3,1)\n",
    "    plt.title(\"Original\")\n",
    "    plt.imshow(np.clip(img, 0, 1))\n",
    "\n",
    "#     plt.subplot(1,3,2)\n",
    "#     plt.title(\"Code\")\n",
    "#     plt.imshow(code.reshape([code.shape[-1]//2,-1]))\n",
    "\n",
    "    plt.subplot(1,3,3)\n",
    "    plt.title(\"Reconstructed\")\n",
    "    plt.imshow(np.clip(reco, 0, 1))\n",
    "    plt.show()\n",
    "    \n",
    "    print('-'*30,'SSIM:',ssim(img[0],reco[0],multichannel=True),'-'*30)\n",
    "    \n",
    "    return\n",
    "\n",
    "### Metric\n",
    "def overall_ssim(actual,predicted):\n",
    "    assert len(actual)==len(predicted)\n",
    "    results = []\n",
    "    for i in range(len(actual)):\n",
    "        s = ssim(actual[i],predicted[i],multichannel=True)\n",
    "        results.append(s)\n",
    "    results = np.array(results)\n",
    "    return np.mean(results)"
   ]
  },
  {
   "cell_type": "markdown",
   "metadata": {},
   "source": [
    "## Main"
   ]
  },
  {
   "cell_type": "markdown",
   "metadata": {},
   "source": [
    "### Data Preparation"
   ]
  },
  {
   "cell_type": "code",
   "execution_count": 8,
   "metadata": {},
   "outputs": [
    {
     "data": {
      "application/vnd.jupyter.widget-view+json": {
       "model_id": "c65bb61144444b28b9cc93f3fa22ef01",
       "version_major": 2,
       "version_minor": 0
      },
      "text/plain": [
       "HBox(children=(HTML(value=''), FloatProgress(value=0.0, max=18983.0), HTML(value='')))"
      ]
     },
     "metadata": {},
     "output_type": "display_data"
    },
    {
     "name": "stdout",
     "output_type": "stream",
     "text": [
      "\n"
     ]
    }
   ],
   "source": [
    "X, attr = load_lfw_dataset(use_raw=True, dimx=32, dimy=32)\n",
    "X = X.astype('float32') / 255.0"
   ]
  },
  {
   "cell_type": "code",
   "execution_count": 32,
   "metadata": {},
   "outputs": [
    {
     "data": {
      "text/plain": [
       "Text(0.5, 1.0, 'Image:1651')"
      ]
     },
     "execution_count": 32,
     "metadata": {},
     "output_type": "execute_result"
    },
    {
     "data": {
      "image/png": "[encoded data removed]",
      "text/plain": [
       "<Figure size 432x288 with 1 Axes>"
      ]
     },
     "metadata": {
      "needs_background": "light"
     },
     "output_type": "display_data"
    }
   ],
   "source": [
    "num = random.randint(0,len(X))\n",
    "\n",
    "plt.imshow(np.clip(X[num], 0, 1))\n",
    "plt.title(f'Image:{num}')"
   ]
  },
  {
   "cell_type": "markdown",
   "metadata": {},
   "source": [
    "### Data Split"
   ]
  },
  {
   "cell_type": "code",
   "execution_count": 60,
   "metadata": {},
   "outputs": [
    {
     "name": "stdout",
     "output_type": "stream",
     "text": [
      "The shape of X_train is (11828, 32, 32, 3)\n",
      "The shape of X_test is (1315, 32, 32, 3)\n"
     ]
    }
   ],
   "source": [
    "X_train, X_test = train_test_split(X, test_size=0.1, random_state=42)\n",
    "print(f'The shape of X_train is {X_train.shape}')\n",
    "print(f'The shape of X_test is {X_test.shape}')"
   ]
  },
  {
   "cell_type": "markdown",
   "metadata": {},
   "source": [
    "### Model Training"
   ]
  },
  {
   "cell_type": "code",
   "execution_count": 61,
   "metadata": {},
   "outputs": [
    {
     "name": "stdout",
     "output_type": "stream",
     "text": [
      "Model: \"functional_11\"\n",
      "_________________________________________________________________\n",
      "Layer (type)                 Output Shape              Param #   \n",
      "=================================================================\n",
      "input_18 (InputLayer)        [(None, 32, 32, 3)]       0         \n",
      "_________________________________________________________________\n",
      "sequential_10 (Sequential)   (None, 1000)              3073000   \n",
      "_________________________________________________________________\n",
      "sequential_11 (Sequential)   (None, 32, 32, 3)         3075072   \n",
      "=================================================================\n",
      "Total params: 6,148,072\n",
      "Trainable params: 6,148,072\n",
      "Non-trainable params: 0\n",
      "_________________________________________________________________\n",
      "None\n"
     ]
    }
   ],
   "source": [
    "IMG_SHAPE = X.shape[1:]\n",
    "embed_size =1000\n",
    "encoder, decoder = build_autoencoder(IMG_SHAPE, embed_size)\n",
    "\n",
    "inp = Input(IMG_SHAPE)\n",
    "code = encoder(inp)\n",
    "reconstruction = decoder(code)\n",
    "\n",
    "autoencoder = Model(inp,reconstruction)\n",
    "autoencoder.compile(optimizer='adam', loss='mse',metrics=['mae'])\n",
    "\n",
    "print(autoencoder.summary())"
   ]
  },
  {
   "cell_type": "code",
   "execution_count": 66,
   "metadata": {
    "scrolled": true
   },
   "outputs": [
    {
     "name": "stdout",
     "output_type": "stream",
     "text": [
      "Epoch 1/50\n",
      "  1/296 [..............................] - ETA: 0s - loss: 0.0050 - mae: 0.0544WARNING:tensorflow:Callbacks method `on_train_batch_end` is slow compared to the batch time (batch time: 0.0010s vs `on_train_batch_end` time: 0.0020s). Check your callbacks.\n",
      "296/296 [==============================] - 1s 3ms/step - loss: 0.0048 - mae: 0.0532 - val_loss: 0.0041 - val_mae: 0.0493\n",
      "Epoch 2/50\n",
      "296/296 [==============================] - 1s 2ms/step - loss: 0.0038 - mae: 0.0469 - val_loss: 0.0040 - val_mae: 0.0488\n",
      "Epoch 3/50\n",
      "296/296 [==============================] - 1s 2ms/step - loss: 0.0034 - mae: 0.0447 - val_loss: 0.0029 - val_mae: 0.0410\n",
      "Epoch 4/50\n",
      "296/296 [==============================] - 1s 3ms/step - loss: 0.0028 - mae: 0.0406 - val_loss: 0.0073 - val_mae: 0.0674\n",
      "Epoch 5/50\n",
      "296/296 [==============================] - 1s 2ms/step - loss: 1.6723 - mae: 0.3649 - val_loss: 0.0046 - val_mae: 0.0523\n",
      "Epoch 6/50\n",
      "296/296 [==============================] - 1s 2ms/step - loss: 0.0035 - mae: 0.0454 - val_loss: 0.0032 - val_mae: 0.0435\n",
      "Epoch 7/50\n",
      "296/296 [==============================] - 1s 2ms/step - loss: 0.0053 - mae: 0.0544 - val_loss: 0.0064 - val_mae: 0.0651\n",
      "Epoch 8/50\n",
      "296/296 [==============================] - 1s 2ms/step - loss: 0.0075 - mae: 0.0632 - val_loss: 0.0024 - val_mae: 0.0371\n",
      "Epoch 9/50\n",
      "296/296 [==============================] - 1s 2ms/step - loss: 0.0127 - mae: 0.0692 - val_loss: 0.0035 - val_mae: 0.0463\n",
      "Epoch 10/50\n",
      "296/296 [==============================] - 1s 2ms/step - loss: 0.0032 - mae: 0.0426 - val_loss: 0.0022 - val_mae: 0.0353\n",
      "Epoch 11/50\n",
      "296/296 [==============================] - 1s 2ms/step - loss: 0.0037 - mae: 0.0459 - val_loss: 0.0223 - val_mae: 0.1293\n",
      "Epoch 12/50\n",
      "296/296 [==============================] - 1s 2ms/step - loss: 0.0075 - mae: 0.0571 - val_loss: 0.0022 - val_mae: 0.0353\n",
      "Epoch 13/50\n",
      "296/296 [==============================] - 1s 2ms/step - loss: 0.0032 - mae: 0.0409 - val_loss: 0.0027 - val_mae: 0.0403\n",
      "Epoch 14/50\n",
      "296/296 [==============================] - 1s 2ms/step - loss: 0.0025 - mae: 0.0383 - val_loss: 0.0046 - val_mae: 0.0550\n",
      "Epoch 15/50\n",
      "296/296 [==============================] - 1s 2ms/step - loss: 0.0042 - mae: 0.0433 - val_loss: 0.0019 - val_mae: 0.0325\n",
      "Epoch 16/50\n",
      "296/296 [==============================] - 1s 2ms/step - loss: 0.0019 - mae: 0.0331 - val_loss: 0.0018 - val_mae: 0.0318\n",
      "Epoch 17/50\n",
      "296/296 [==============================] - 1s 2ms/step - loss: 0.0030 - mae: 0.0402 - val_loss: 0.0018 - val_mae: 0.0320\n",
      "Epoch 18/50\n",
      "296/296 [==============================] - 1s 3ms/step - loss: 0.0025 - mae: 0.0374 - val_loss: 0.0042 - val_mae: 0.0521\n",
      "Epoch 19/50\n",
      "296/296 [==============================] - 1s 3ms/step - loss: 0.0023 - mae: 0.0357 - val_loss: 0.0017 - val_mae: 0.0310\n",
      "Epoch 20/50\n",
      "296/296 [==============================] - 1s 3ms/step - loss: 0.0024 - mae: 0.0367 - val_loss: 0.0019 - val_mae: 0.0329\n",
      "Epoch 21/50\n",
      "296/296 [==============================] - 1s 3ms/step - loss: 0.0021 - mae: 0.0341 - val_loss: 0.0018 - val_mae: 0.0313\n",
      "Epoch 22/50\n",
      "296/296 [==============================] - 1s 3ms/step - loss: 0.0023 - mae: 0.0357 - val_loss: 0.0018 - val_mae: 0.0313\n",
      "Epoch 23/50\n",
      "296/296 [==============================] - 1s 3ms/step - loss: 0.0023 - mae: 0.0355 - val_loss: 0.0017 - val_mae: 0.0304\n",
      "Epoch 24/50\n",
      "296/296 [==============================] - 1s 2ms/step - loss: 0.0020 - mae: 0.0340 - val_loss: 0.0018 - val_mae: 0.0316\n",
      "Epoch 25/50\n",
      "296/296 [==============================] - 1s 3ms/step - loss: 0.0017 - mae: 0.0311 - val_loss: 0.0016 - val_mae: 0.0299\n",
      "Epoch 26/50\n",
      "296/296 [==============================] - 1s 3ms/step - loss: 0.0016 - mae: 0.0304 - val_loss: 0.0016 - val_mae: 0.0302\n",
      "Epoch 27/50\n",
      "296/296 [==============================] - 1s 2ms/step - loss: 0.0017 - mae: 0.0307 - val_loss: 0.0016 - val_mae: 0.0304\n",
      "Epoch 28/50\n",
      "296/296 [==============================] - 1s 2ms/step - loss: 0.0018 - mae: 0.0322 - val_loss: 0.0021 - val_mae: 0.0349\n",
      "Epoch 29/50\n",
      "296/296 [==============================] - 1s 2ms/step - loss: 0.0016 - mae: 0.0302 - val_loss: 0.0021 - val_mae: 0.0352\n",
      "Epoch 30/50\n",
      "296/296 [==============================] - 1s 2ms/step - loss: 0.0019 - mae: 0.0327 - val_loss: 0.0017 - val_mae: 0.0309\n",
      "Epoch 31/50\n",
      "296/296 [==============================] - 1s 2ms/step - loss: 0.0028 - mae: 0.0372 - val_loss: 0.0017 - val_mae: 0.0317\n",
      "Epoch 32/50\n",
      "296/296 [==============================] - 1s 3ms/step - loss: 0.0015 - mae: 0.0300 - val_loss: 0.0017 - val_mae: 0.0314\n",
      "Epoch 33/50\n",
      "296/296 [==============================] - 1s 3ms/step - loss: 0.0019 - mae: 0.0332 - val_loss: 0.0017 - val_mae: 0.0317\n",
      "Epoch 34/50\n",
      "296/296 [==============================] - 1s 3ms/step - loss: 0.0034 - mae: 0.0403 - val_loss: 0.0265 - val_mae: 0.1341\n",
      "Epoch 35/50\n",
      "296/296 [==============================] - 1s 3ms/step - loss: 4.1269 - mae: 0.5940 - val_loss: 0.0059 - val_mae: 0.0576\n",
      "Epoch 36/50\n",
      "296/296 [==============================] - 1s 3ms/step - loss: 0.0043 - mae: 0.0498 - val_loss: 0.0034 - val_mae: 0.0448\n",
      "Epoch 37/50\n",
      "296/296 [==============================] - 1s 3ms/step - loss: 0.0029 - mae: 0.0411 - val_loss: 0.0026 - val_mae: 0.0390\n",
      "Epoch 38/50\n",
      "296/296 [==============================] - 1s 3ms/step - loss: 0.0023 - mae: 0.0369 - val_loss: 0.0022 - val_mae: 0.0357\n",
      "Epoch 39/50\n",
      "296/296 [==============================] - 1s 3ms/step - loss: 0.0020 - mae: 0.0343 - val_loss: 0.0020 - val_mae: 0.0339\n",
      "Epoch 40/50\n",
      "296/296 [==============================] - 1s 3ms/step - loss: 0.0018 - mae: 0.0327 - val_loss: 0.0018 - val_mae: 0.0325\n",
      "Epoch 41/50\n",
      "296/296 [==============================] - 1s 3ms/step - loss: 0.0017 - mae: 0.0312 - val_loss: 0.0017 - val_mae: 0.0313\n",
      "Epoch 42/50\n",
      "296/296 [==============================] - 1s 3ms/step - loss: 0.0016 - mae: 0.0302 - val_loss: 0.0016 - val_mae: 0.0303\n",
      "Epoch 43/50\n",
      "296/296 [==============================] - 1s 3ms/step - loss: 0.0015 - mae: 0.0294 - val_loss: 0.0015 - val_mae: 0.0296\n",
      "Epoch 44/50\n",
      "296/296 [==============================] - 1s 2ms/step - loss: 0.0014 - mae: 0.0287 - val_loss: 0.0015 - val_mae: 0.0290\n",
      "Epoch 45/50\n",
      "296/296 [==============================] - 1s 3ms/step - loss: 0.0014 - mae: 0.0281 - val_loss: 0.0015 - val_mae: 0.0288\n",
      "Epoch 46/50\n",
      "296/296 [==============================] - 1s 2ms/step - loss: 0.0013 - mae: 0.0276 - val_loss: 0.0014 - val_mae: 0.0283\n",
      "Epoch 47/50\n",
      "296/296 [==============================] - 1s 3ms/step - loss: 0.0013 - mae: 0.0271 - val_loss: 0.0014 - val_mae: 0.0282\n",
      "Epoch 48/50\n",
      "296/296 [==============================] - 1s 2ms/step - loss: 0.0013 - mae: 0.0268 - val_loss: 0.0013 - val_mae: 0.0274\n",
      "Epoch 49/50\n",
      "296/296 [==============================] - 1s 2ms/step - loss: 0.0012 - mae: 0.0264 - val_loss: 0.0013 - val_mae: 0.0272\n",
      "Epoch 50/50\n",
      "296/296 [==============================] - 1s 2ms/step - loss: 0.0012 - mae: 0.0262 - val_loss: 0.0014 - val_mae: 0.0276\n"
     ]
    },
    {
     "data": {
      "image/png": "[encoded data removed]",
      "text/plain": [
       "<Figure size 432x288 with 1 Axes>"
      ]
     },
     "metadata": {
      "needs_background": "light"
     },
     "output_type": "display_data"
    }
   ],
   "source": [
    "history = autoencoder.fit(x=X_train, y=X_train, epochs=50,validation_split=0.2,batch_size=32)\n",
    "\n",
    "plt.plot(history.history['loss'])\n",
    "plt.plot(history.history['val_loss'])\n",
    "plt.title('model loss')\n",
    "plt.ylabel('loss')\n",
    "plt.xlabel('epoch')\n",
    "plt.legend(['train', 'test'], loc='upper left')\n",
    "plt.show()"
   ]
  },
  {
   "cell_type": "markdown",
   "metadata": {},
   "source": [
    "### Predictions"
   ]
  },
  {
   "cell_type": "code",
   "execution_count": 67,
   "metadata": {},
   "outputs": [
    {
     "data": {
      "image/png": "[encoded data removed]",
      "text/plain": [
       "<Figure size 432x288 with 2 Axes>"
      ]
     },
     "metadata": {
      "needs_background": "light"
     },
     "output_type": "display_data"
    },
    {
     "name": "stdout",
     "output_type": "stream",
     "text": [
      "------------------------------ SSIM: 0.8016698119382627 ------------------------------\n"
     ]
    },
    {
     "data": {
      "image/png": "[encoded data removed]",
      "text/plain": [
       "<Figure size 432x288 with 2 Axes>"
      ]
     },
     "metadata": {
      "needs_background": "light"
     },
     "output_type": "display_data"
    },
    {
     "name": "stdout",
     "output_type": "stream",
     "text": [
      "------------------------------ SSIM: 0.899625296828319 ------------------------------\n"
     ]
    },
    {
     "data": {
      "image/png": "[encoded data removed]",
      "text/plain": [
       "<Figure size 432x288 with 2 Axes>"
      ]
     },
     "metadata": {
      "needs_background": "light"
     },
     "output_type": "display_data"
    },
    {
     "name": "stdout",
     "output_type": "stream",
     "text": [
      "------------------------------ SSIM: 0.8825011322731641 ------------------------------\n"
     ]
    },
    {
     "data": {
      "image/png": "[encoded data removed]",
      "text/plain": [
       "<Figure size 432x288 with 2 Axes>"
      ]
     },
     "metadata": {
      "needs_background": "light"
     },
     "output_type": "display_data"
    },
    {
     "name": "stdout",
     "output_type": "stream",
     "text": [
      "------------------------------ SSIM: 0.8928167452563162 ------------------------------\n"
     ]
    },
    {
     "data": {
      "image/png": "[encoded data removed]",
      "text/plain": [
       "<Figure size 432x288 with 2 Axes>"
      ]
     },
     "metadata": {
      "needs_background": "light"
     },
     "output_type": "display_data"
    },
    {
     "name": "stdout",
     "output_type": "stream",
     "text": [
      "------------------------------ SSIM: 0.9327272855313807 ------------------------------\n"
     ]
    }
   ],
   "source": [
    "num_test = random.sample(range(0,len(X_test)),5)\n",
    "for i in num_test:\n",
    "    img = X_test[i]\n",
    "    visualize(img,encoder,decoder)"
   ]
  },
  {
   "cell_type": "code",
   "execution_count": 68,
   "metadata": {},
   "outputs": [
    {
     "name": "stdout",
     "output_type": "stream",
     "text": [
      "The average Similarity image is : 0.94\n",
      "The compression rate is: 3.07\n"
     ]
    }
   ],
   "source": [
    "bottle = encoder.predict(X_test)\n",
    "predicted = decoder.predict(bottle)\n",
    "\n",
    "print(f'The average Similarity image is : {round(overall_ssim(X_test,predicted),2)}')\n",
    "print(f'The compression rate is: {round((np.prod(IMG_SHAPE)/embed_size),2)}')"
   ]
  },
  {
   "cell_type": "markdown",
   "metadata": {},
   "source": [
    "## Experiment"
   ]
  },
  {
   "cell_type": "code",
   "execution_count": null,
   "metadata": {},
   "outputs": [],
   "source": [
    "show_image(X_test[0])\n",
    "plt.savefig('original.jpg')"
   ]
  },
  {
   "cell_type": "code",
   "execution_count": null,
   "metadata": {},
   "outputs": [],
   "source": [
    "random = X_test[0]\n",
    "random=np.expand_dims(random,axis=0)\n",
    "random.shape"
   ]
  },
  {
   "cell_type": "code",
   "execution_count": null,
   "metadata": {},
   "outputs": [],
   "source": [
    "bottle = encoder.predict(random)\n",
    "bottle.shape"
   ]
  },
  {
   "cell_type": "code",
   "execution_count": null,
   "metadata": {},
   "outputs": [],
   "source": [
    "new_image = decoder.predict(bottle)\n",
    "new_image.shape"
   ]
  },
  {
   "cell_type": "code",
   "execution_count": null,
   "metadata": {},
   "outputs": [],
   "source": [
    "plt.imshow(new_image[0])\n",
    "plt.savefig('reconstructed.jpg')"
   ]
  },
  {
   "cell_type": "code",
   "execution_count": null,
   "metadata": {},
   "outputs": [],
   "source": [
    "s = ssim(random[0], new_image[0],multichannel=True)"
   ]
  },
  {
   "cell_type": "code",
   "execution_count": null,
   "metadata": {},
   "outputs": [],
   "source": [
    "s"
   ]
  },
  {
   "cell_type": "code",
   "execution_count": null,
   "metadata": {},
   "outputs": [],
   "source": [
    "random.sample(range(0, 1000), 10)"
   ]
  },
  {
   "cell_type": "code",
   "execution_count": null,
   "metadata": {},
   "outputs": [],
   "source": []
  },
  {
   "cell_type": "code",
   "execution_count": null,
   "metadata": {},
   "outputs": [],
   "source": []
  },
  {
   "cell_type": "code",
   "execution_count": null,
   "metadata": {},
   "outputs": [],
   "source": []
  },
  {
   "cell_type": "code",
   "execution_count": null,
   "metadata": {},
   "outputs": [],
   "source": []
  },
  {
   "cell_type": "code",
   "execution_count": null,
   "metadata": {},
   "outputs": [],
   "source": []
  },
  {
   "cell_type": "code",
   "execution_count": null,
   "metadata": {},
   "outputs": [],
   "source": []
  },
  {
   "cell_type": "code",
   "execution_count": null,
   "metadata": {},
   "outputs": [],
   "source": []
  },
  {
   "cell_type": "code",
   "execution_count": null,
   "metadata": {},
   "outputs": [],
   "source": []
  }
 ],
 "metadata": {
  "kernelspec": {
   "display_name": "Python 3",
   "language": "python",
   "name": "python3"
  },
  "language_info": {
   "codemirror_mode": {
    "name": "ipython",
    "version": 3
   },
   "file_extension": ".py",
   "mimetype": "text/x-python",
   "name": "python",
   "nbconvert_exporter": "python",
   "pygments_lexer": "ipython3",
   "version": "3.7.9"
  }
 },
 "nbformat": 4,
 "nbformat_minor": 4
}
