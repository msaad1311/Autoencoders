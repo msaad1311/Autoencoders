{
 "cells": [
  {
   "cell_type": "code",
   "execution_count": 1,
   "metadata": {},
   "outputs": [],
   "source": [
    "from matplotlib import pyplot as plt\n",
    "import numpy as np\n",
    "import gzip\n",
    "from sklearn.model_selection import train_test_split\n",
    "\n",
    "from tensorflow import keras\n",
    "from tensorflow.keras.layers import Input,Conv2D,MaxPooling2D,UpSampling2D\n",
    "from tensorflow.keras.models import Model"
   ]
  },
  {
   "cell_type": "code",
   "execution_count": 2,
   "metadata": {},
   "outputs": [],
   "source": [
    "def extract_data(filename, num_images):\n",
    "    with gzip.open(filename) as bytestream:\n",
    "        bytestream.read(16)\n",
    "        buf = bytestream.read(28 * 28 * num_images)\n",
    "        data = np.frombuffer(buf, dtype=np.uint8).astype(np.float32)\n",
    "        data = data.reshape(num_images, 28,28)\n",
    "        return data\n",
    "\n",
    "def extract_labels(filename, num_images):\n",
    "    with gzip.open(filename) as bytestream:\n",
    "        bytestream.read(8)\n",
    "        buf = bytestream.read(1 * num_images)\n",
    "        labels = np.frombuffer(buf, dtype=np.uint8).astype(np.int64)\n",
    "        return labels"
   ]
  },
  {
   "cell_type": "code",
   "execution_count": 3,
   "metadata": {},
   "outputs": [],
   "source": [
    "train_data = extract_data('train-images-idx3-ubyte.gz', 60000)\n",
    "test_data = extract_data('t10k-images-idx3-ubyte.gz', 10000)\n",
    "\n",
    "train_labels = extract_labels('train-labels-idx1-ubyte.gz',60000)\n",
    "test_labels = extract_labels('t10k-labels-idx1-ubyte.gz',10000)"
   ]
  },
  {
   "cell_type": "code",
   "execution_count": 4,
   "metadata": {},
   "outputs": [
    {
     "name": "stdout",
     "output_type": "stream",
     "text": [
      "Training set (images) shape: (60000, 28, 28)\n",
      "Test set (images) shape: (10000, 28, 28)\n"
     ]
    }
   ],
   "source": [
    "# Shapes of training set\n",
    "print(\"Training set (images) shape: {shape}\".format(shape=train_data.shape))\n",
    "\n",
    "# Shapes of test set\n",
    "print(\"Test set (images) shape: {shape}\".format(shape=test_data.shape))"
   ]
  },
  {
   "cell_type": "code",
   "execution_count": 5,
   "metadata": {},
   "outputs": [
    {
     "data": {
      "text/plain": [
       "<matplotlib.image.AxesImage at 0x1fc9e05e488>"
      ]
     },
     "execution_count": 5,
     "metadata": {},
     "output_type": "execute_result"
    },
    {
     "data": {
      "image/png": "[encoded data removed]",
      "text/plain": [
       "<Figure size 432x288 with 2 Axes>"
      ]
     },
     "metadata": {
      "needs_background": "light"
     },
     "output_type": "display_data"
    }
   ],
   "source": [
    "plt.subplot(121)\n",
    "curr_img = np.reshape(train_data[0], (28,28))\n",
    "curr_lbl = train_labels[0]\n",
    "plt.imshow(curr_img, cmap='gray')\n",
    "\n",
    "plt.subplot(122)\n",
    "curr_img = np.reshape(test_data[0], (28,28))\n",
    "curr_lbl = train_labels[0]\n",
    "plt.imshow(curr_img, cmap='gray')"
   ]
  },
  {
   "cell_type": "code",
   "execution_count": 6,
   "metadata": {},
   "outputs": [
    {
     "data": {
      "text/plain": [
       "((60000, 28, 28, 1), (10000, 28, 28, 1))"
      ]
     },
     "execution_count": 6,
     "metadata": {},
     "output_type": "execute_result"
    }
   ],
   "source": [
    "train_data = train_data.reshape(-1, 28,28, 1)\n",
    "test_data = test_data.reshape(-1, 28,28, 1)\n",
    "train_data.shape, test_data.shape"
   ]
  },
  {
   "cell_type": "code",
   "execution_count": 7,
   "metadata": {},
   "outputs": [],
   "source": [
    "train_data = train_data / np.max(train_data)\n",
    "test_data = test_data / np.max(test_data)"
   ]
  },
  {
   "cell_type": "code",
   "execution_count": 8,
   "metadata": {},
   "outputs": [],
   "source": [
    "train_X,valid_X,train_ground,valid_ground = train_test_split(train_data,\n",
    "                                                             train_data, \n",
    "                                                             test_size=0.2, \n",
    "                                                             random_state=42)"
   ]
  },
  {
   "cell_type": "code",
   "execution_count": 9,
   "metadata": {},
   "outputs": [],
   "source": [
    "## Basic Parameters\n",
    "\n",
    "batch_size = 128\n",
    "epochs = 50\n",
    "inChannel = 1\n",
    "x, y = 28, 28"
   ]
  },
  {
   "cell_type": "code",
   "execution_count": 10,
   "metadata": {},
   "outputs": [],
   "source": [
    "def autoencoder(input_img):\n",
    "    #encoder\n",
    "    #input = 28 x 28 x 1 (wide and thin)\n",
    "    conv1 = Conv2D(32, (3, 3), activation='relu', padding='same')(input_img) #28 x 28 x 32\n",
    "    pool1 = MaxPooling2D(pool_size=(2, 2))(conv1) #14 x 14 x 32\n",
    "    conv2 = Conv2D(64, (3, 3), activation='relu', padding='same')(pool1) #14 x 14 x 64\n",
    "    pool2 = MaxPooling2D(pool_size=(2, 2))(conv2) #7 x 7 x 64\n",
    "    conv3 = Conv2D(128, (3, 3), activation='relu', padding='same')(pool2) #7 x 7 x 128 (small and thick)\n",
    "\n",
    "    #decoder\n",
    "    conv4 = Conv2D(128, (3, 3), activation='relu', padding='same')(conv3) #7 x 7 x 128\n",
    "    up1 = UpSampling2D((2,2))(conv4) # 14 x 14 x 128\n",
    "    conv5 = Conv2D(64, (3, 3), activation='relu', padding='same')(up1) # 14 x 14 x 64\n",
    "    up2 = UpSampling2D((2,2))(conv5) # 28 x 28 x 64\n",
    "    decoded = Conv2D(1, (3, 3), activation='sigmoid', padding='same')(up2) # 28 x 28 x 1\n",
    "    return decoded"
   ]
  },
  {
   "cell_type": "code",
   "execution_count": 11,
   "metadata": {},
   "outputs": [],
   "source": [
    "input_img = Input(shape = (x, y, inChannel))\n",
    "autoencoder = Model(input_img, autoencoder(input_img))"
   ]
  },
  {
   "cell_type": "code",
   "execution_count": 12,
   "metadata": {},
   "outputs": [],
   "source": [
    "autoencoder.compile(loss='mse', optimizer = 'adam',metrics=['mae'])"
   ]
  },
  {
   "cell_type": "code",
   "execution_count": 13,
   "metadata": {},
   "outputs": [],
   "source": [
    "from tensorflow.compat.v1 import ConfigProto\n",
    "from tensorflow.compat.v1 import InteractiveSession\n",
    "\n",
    "config = ConfigProto()\n",
    "config.gpu_options.allow_growth = True\n",
    "session = InteractiveSession(config=config)"
   ]
  },
  {
   "cell_type": "code",
   "execution_count": 14,
   "metadata": {},
   "outputs": [
    {
     "name": "stdout",
     "output_type": "stream",
     "text": [
      "Epoch 1/50\n",
      "375/375 [==============================] - 3s 7ms/step - loss: 0.0174 - mae: 0.0705 - val_loss: 0.0107 - val_mae: 0.0552\n",
      "Epoch 2/50\n",
      "375/375 [==============================] - 2s 6ms/step - loss: 0.0070 - mae: 0.0423 - val_loss: 0.0059 - val_mae: 0.0387\n",
      "Epoch 3/50\n",
      "375/375 [==============================] - 2s 6ms/step - loss: 0.0052 - mae: 0.0360 - val_loss: 0.0046 - val_mae: 0.0335\n",
      "Epoch 4/50\n",
      "375/375 [==============================] - 2s 6ms/step - loss: 0.0043 - mae: 0.0327 - val_loss: 0.0040 - val_mae: 0.0311\n",
      "Epoch 5/50\n",
      "375/375 [==============================] - 2s 6ms/step - loss: 0.0038 - mae: 0.0307 - val_loss: 0.0036 - val_mae: 0.0293\n",
      "Epoch 6/50\n",
      "375/375 [==============================] - 2s 6ms/step - loss: 0.0034 - mae: 0.0292 - val_loss: 0.0034 - val_mae: 0.0292\n",
      "Epoch 7/50\n",
      "375/375 [==============================] - 2s 6ms/step - loss: 0.0032 - mae: 0.0279 - val_loss: 0.0031 - val_mae: 0.0276\n",
      "Epoch 8/50\n",
      "375/375 [==============================] - 2s 6ms/step - loss: 0.0030 - mae: 0.0270 - val_loss: 0.0029 - val_mae: 0.0265\n",
      "Epoch 9/50\n",
      "375/375 [==============================] - 2s 6ms/step - loss: 0.0028 - mae: 0.0263 - val_loss: 0.0028 - val_mae: 0.0259\n",
      "Epoch 10/50\n",
      "375/375 [==============================] - 2s 6ms/step - loss: 0.0027 - mae: 0.0256 - val_loss: 0.0027 - val_mae: 0.0259\n",
      "Epoch 11/50\n",
      "375/375 [==============================] - 2s 6ms/step - loss: 0.0026 - mae: 0.0251 - val_loss: 0.0026 - val_mae: 0.0255\n",
      "Epoch 12/50\n",
      "375/375 [==============================] - 2s 6ms/step - loss: 0.0025 - mae: 0.0247 - val_loss: 0.0025 - val_mae: 0.0246\n",
      "Epoch 13/50\n",
      "375/375 [==============================] - 2s 6ms/step - loss: 0.0024 - mae: 0.0241 - val_loss: 0.0026 - val_mae: 0.0254\n",
      "Epoch 14/50\n",
      "375/375 [==============================] - 2s 6ms/step - loss: 0.0023 - mae: 0.0237 - val_loss: 0.0023 - val_mae: 0.0232\n",
      "Epoch 15/50\n",
      "375/375 [==============================] - 2s 6ms/step - loss: 0.0023 - mae: 0.0234 - val_loss: 0.0023 - val_mae: 0.0236\n",
      "Epoch 16/50\n",
      "375/375 [==============================] - 2s 6ms/step - loss: 0.0022 - mae: 0.0231 - val_loss: 0.0022 - val_mae: 0.0232\n",
      "Epoch 17/50\n",
      "375/375 [==============================] - 2s 6ms/step - loss: 0.0021 - mae: 0.0227 - val_loss: 0.0022 - val_mae: 0.0233\n",
      "Epoch 18/50\n",
      "375/375 [==============================] - 2s 6ms/step - loss: 0.0021 - mae: 0.0223 - val_loss: 0.0021 - val_mae: 0.0224\n",
      "Epoch 19/50\n",
      "375/375 [==============================] - 2s 6ms/step - loss: 0.0020 - mae: 0.0222 - val_loss: 0.0022 - val_mae: 0.0229\n",
      "Epoch 20/50\n",
      "375/375 [==============================] - 2s 6ms/step - loss: 0.0020 - mae: 0.0219 - val_loss: 0.0020 - val_mae: 0.0216\n",
      "Epoch 21/50\n",
      "375/375 [==============================] - 2s 6ms/step - loss: 0.0019 - mae: 0.0216 - val_loss: 0.0019 - val_mae: 0.0212\n",
      "Epoch 22/50\n",
      "375/375 [==============================] - 2s 6ms/step - loss: 0.0019 - mae: 0.0215 - val_loss: 0.0020 - val_mae: 0.0229\n",
      "Epoch 23/50\n",
      "375/375 [==============================] - 2s 6ms/step - loss: 0.0019 - mae: 0.0211 - val_loss: 0.0019 - val_mae: 0.0214\n",
      "Epoch 24/50\n",
      "375/375 [==============================] - 2s 6ms/step - loss: 0.0018 - mae: 0.0210 - val_loss: 0.0019 - val_mae: 0.0211\n",
      "Epoch 25/50\n",
      "375/375 [==============================] - 2s 6ms/step - loss: 0.0018 - mae: 0.0208 - val_loss: 0.0018 - val_mae: 0.0210\n",
      "Epoch 26/50\n",
      "375/375 [==============================] - 2s 6ms/step - loss: 0.0018 - mae: 0.0207 - val_loss: 0.0018 - val_mae: 0.0205\n",
      "Epoch 27/50\n",
      "375/375 [==============================] - 2s 6ms/step - loss: 0.0017 - mae: 0.0204 - val_loss: 0.0019 - val_mae: 0.0216\n",
      "Epoch 28/50\n",
      "375/375 [==============================] - 2s 6ms/step - loss: 0.0017 - mae: 0.0203 - val_loss: 0.0017 - val_mae: 0.0200\n",
      "Epoch 29/50\n",
      "375/375 [==============================] - 2s 6ms/step - loss: 0.0017 - mae: 0.0201 - val_loss: 0.0017 - val_mae: 0.0204\n",
      "Epoch 30/50\n",
      "375/375 [==============================] - 2s 6ms/step - loss: 0.0016 - mae: 0.0199 - val_loss: 0.0017 - val_mae: 0.0200\n",
      "Epoch 31/50\n",
      "375/375 [==============================] - 2s 6ms/step - loss: 0.0016 - mae: 0.0199 - val_loss: 0.0017 - val_mae: 0.0201\n",
      "Epoch 32/50\n",
      "375/375 [==============================] - 2s 7ms/step - loss: 0.0016 - mae: 0.0197 - val_loss: 0.0017 - val_mae: 0.0206\n",
      "Epoch 33/50\n",
      "375/375 [==============================] - 2s 6ms/step - loss: 0.0016 - mae: 0.0196 - val_loss: 0.0017 - val_mae: 0.0203\n",
      "Epoch 34/50\n",
      "375/375 [==============================] - 2s 6ms/step - loss: 0.0016 - mae: 0.0194 - val_loss: 0.0016 - val_mae: 0.0196\n",
      "Epoch 35/50\n",
      "375/375 [==============================] - 2s 6ms/step - loss: 0.0015 - mae: 0.0193 - val_loss: 0.0016 - val_mae: 0.0197\n",
      "Epoch 36/50\n",
      "375/375 [==============================] - 2s 6ms/step - loss: 0.0015 - mae: 0.0192 - val_loss: 0.0015 - val_mae: 0.0193\n",
      "Epoch 37/50\n",
      "375/375 [==============================] - 2s 6ms/step - loss: 0.0015 - mae: 0.0191 - val_loss: 0.0018 - val_mae: 0.0215\n",
      "Epoch 38/50\n",
      "375/375 [==============================] - 2s 6ms/step - loss: 0.0015 - mae: 0.0190 - val_loss: 0.0015 - val_mae: 0.0189\n",
      "Epoch 39/50\n",
      "375/375 [==============================] - 2s 6ms/step - loss: 0.0015 - mae: 0.0189 - val_loss: 0.0015 - val_mae: 0.0192\n",
      "Epoch 40/50\n",
      "375/375 [==============================] - 2s 6ms/step - loss: 0.0014 - mae: 0.0188 - val_loss: 0.0015 - val_mae: 0.0187\n",
      "Epoch 41/50\n",
      "375/375 [==============================] - 2s 6ms/step - loss: 0.0014 - mae: 0.0187 - val_loss: 0.0017 - val_mae: 0.0215\n",
      "Epoch 42/50\n",
      "375/375 [==============================] - 2s 6ms/step - loss: 0.0014 - mae: 0.0186 - val_loss: 0.0015 - val_mae: 0.0190\n",
      "Epoch 43/50\n",
      "375/375 [==============================] - 2s 6ms/step - loss: 0.0014 - mae: 0.0185 - val_loss: 0.0014 - val_mae: 0.0185\n",
      "Epoch 44/50\n",
      "375/375 [==============================] - 2s 6ms/step - loss: 0.0014 - mae: 0.0184 - val_loss: 0.0014 - val_mae: 0.0184\n",
      "Epoch 45/50\n",
      "375/375 [==============================] - 2s 6ms/step - loss: 0.0014 - mae: 0.0184 - val_loss: 0.0014 - val_mae: 0.0182\n",
      "Epoch 46/50\n",
      "375/375 [==============================] - 2s 6ms/step - loss: 0.0014 - mae: 0.0183 - val_loss: 0.0014 - val_mae: 0.0187\n",
      "Epoch 47/50\n",
      "375/375 [==============================] - 2s 6ms/step - loss: 0.0013 - mae: 0.0182 - val_loss: 0.0014 - val_mae: 0.0183\n",
      "Epoch 48/50\n",
      "375/375 [==============================] - 2s 6ms/step - loss: 0.0013 - mae: 0.0181 - val_loss: 0.0014 - val_mae: 0.0182\n",
      "Epoch 49/50\n",
      "375/375 [==============================] - 2s 6ms/step - loss: 0.0013 - mae: 0.0181 - val_loss: 0.0014 - val_mae: 0.0183\n",
      "Epoch 50/50\n",
      "375/375 [==============================] - 2s 6ms/step - loss: 0.0013 - mae: 0.0180 - val_loss: 0.0014 - val_mae: 0.0182\n"
     ]
    }
   ],
   "source": [
    "history = autoencoder.fit(train_X, train_ground, \n",
    "                                    batch_size=batch_size,epochs=epochs,verbose=1,\n",
    "                                    validation_data=(valid_X, valid_ground))"
   ]
  },
  {
   "cell_type": "code",
   "execution_count": 15,
   "metadata": {},
   "outputs": [
    {
     "data": {
      "image/png": "[encoded data removed]",
      "text/plain": [
       "<Figure size 432x288 with 1 Axes>"
      ]
     },
     "metadata": {
      "needs_background": "light"
     },
     "output_type": "display_data"
    }
   ],
   "source": [
    "plt.plot(history.history['loss'],'r',label='Training Loss')\n",
    "plt.plot(history.history['val_loss'],'b',label='Validation Loss')\n",
    "plt.legend()\n",
    "plt.show()"
   ]
  },
  {
   "cell_type": "code",
   "execution_count": 17,
   "metadata": {},
   "outputs": [],
   "source": [
    "reconstructed = autoencoder.predict(test_data)"
   ]
  },
  {
   "cell_type": "code",
   "execution_count": 18,
   "metadata": {},
   "outputs": [
    {
     "data": {
      "text/plain": [
       "(10000, 28, 28, 1)"
      ]
     },
     "execution_count": 18,
     "metadata": {},
     "output_type": "execute_result"
    }
   ],
   "source": [
    "reconstructed.shape"
   ]
  },
  {
   "cell_type": "code",
   "execution_count": 21,
   "metadata": {},
   "outputs": [
    {
     "data": {
      "text/plain": [
       "<matplotlib.image.AxesImage at 0x1fc9e7c3488>"
      ]
     },
     "execution_count": 21,
     "metadata": {},
     "output_type": "execute_result"
    },
    {
     "data": {
      "image/png": "[encoded data removed]",
      "text/plain": [
       "<Figure size 432x288 with 2 Axes>"
      ]
     },
     "metadata": {
      "needs_background": "light"
     },
     "output_type": "display_data"
    }
   ],
   "source": [
    "plt.subplot(121)\n",
    "curr_img = np.reshape(test_data[0], (28,28))\n",
    "# curr_lbl = test_label[0]\n",
    "plt.imshow(curr_img, cmap='gray')\n",
    "\n",
    "plt.subplot(122)\n",
    "curr_img = np.reshape(reconstructed[0], (28,28))\n",
    "# curr_lbl = train_labels[0]\n",
    "plt.imshow(curr_img, cmap='gray')"
   ]
  },
  {
   "cell_type": "code",
   "execution_count": null,
   "metadata": {},
   "outputs": [],
   "source": []
  }
 ],
 "metadata": {
  "kernelspec": {
   "display_name": "Python 3",
   "language": "python",
   "name": "python3"
  },
  "language_info": {
   "codemirror_mode": {
    "name": "ipython",
    "version": 3
   },
   "file_extension": ".py",
   "mimetype": "text/x-python",
   "name": "python",
   "nbconvert_exporter": "python",
   "pygments_lexer": "ipython3",
   "version": "3.7.9"
  }
 },
 "nbformat": 4,
 "nbformat_minor": 4
}
