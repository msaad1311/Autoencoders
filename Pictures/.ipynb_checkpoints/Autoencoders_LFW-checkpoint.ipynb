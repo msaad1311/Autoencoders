{
 "cells": [
  {
   "cell_type": "markdown",
   "metadata": {},
   "source": [
    "## Libraries"
   ]
  },
  {
   "cell_type": "code",
   "execution_count": 1,
   "metadata": {},
   "outputs": [
    {
     "name": "stdout",
     "output_type": "stream",
     "text": [
      "All the libraries are loaded\n"
     ]
    }
   ],
   "source": [
    "import cv2\n",
    "import matplotlib.pyplot as plt\n",
    "import numpy as np\n",
    "import pandas as pd\n",
    "import tqdm\n",
    "import tarfile\n",
    "import os\n",
    "import random\n",
    "import gc\n",
    "\n",
    "from sklearn.model_selection import train_test_split\n",
    "from skimage.metrics import structural_similarity as ssim\n",
    "\n",
    "from tensorflow.keras.layers import Dense, Flatten, Reshape, Input, InputLayer,Conv2D,MaxPool2D,UpSampling2D\n",
    "from tensorflow.keras.models import Sequential, Model\n",
    "\n",
    "print('All the libraries are loaded')"
   ]
  },
  {
   "cell_type": "code",
   "execution_count": 85,
   "metadata": {},
   "outputs": [
    {
     "ename": "ResourceExhaustedError",
     "evalue": "OOM when allocating tensor with shape[172800,196608] and type float on /job:localhost/replica:0/task:0/device:GPU:0 by allocator GPU_0_bfc [Op:RandomUniform]",
     "output_type": "error",
     "traceback": [
      "\u001b[1;31m---------------------------------------------------------------------------\u001b[0m",
      "\u001b[1;31mResourceExhaustedError\u001b[0m                    Traceback (most recent call last)",
      "\u001b[1;32m<ipython-input-85-a9fc2ca96fe7>\u001b[0m in \u001b[0;36m<module>\u001b[1;34m\u001b[0m\n\u001b[0;32m     27\u001b[0m \u001b[0mdecoder\u001b[0m\u001b[1;33m.\u001b[0m\u001b[0madd\u001b[0m\u001b[1;33m(\u001b[0m\u001b[0mConv2D\u001b[0m\u001b[1;33m(\u001b[0m\u001b[0mfilters\u001b[0m\u001b[1;33m=\u001b[0m\u001b[1;36m3\u001b[0m\u001b[1;33m,\u001b[0m\u001b[0mkernel_size\u001b[0m\u001b[1;33m=\u001b[0m\u001b[1;36m3\u001b[0m\u001b[1;33m,\u001b[0m\u001b[0mpadding\u001b[0m\u001b[1;33m=\u001b[0m\u001b[0mpad\u001b[0m\u001b[1;33m)\u001b[0m\u001b[1;33m)\u001b[0m\u001b[1;33m\u001b[0m\u001b[1;33m\u001b[0m\u001b[0m\n\u001b[0;32m     28\u001b[0m \u001b[0mdecoder\u001b[0m\u001b[1;33m.\u001b[0m\u001b[0madd\u001b[0m\u001b[1;33m(\u001b[0m\u001b[0mFlatten\u001b[0m\u001b[1;33m(\u001b[0m\u001b[1;33m)\u001b[0m\u001b[1;33m)\u001b[0m\u001b[1;33m\u001b[0m\u001b[1;33m\u001b[0m\u001b[0m\n\u001b[1;32m---> 29\u001b[1;33m \u001b[0mdecoder\u001b[0m\u001b[1;33m.\u001b[0m\u001b[0madd\u001b[0m\u001b[1;33m(\u001b[0m\u001b[0mDense\u001b[0m\u001b[1;33m(\u001b[0m\u001b[0mnp\u001b[0m\u001b[1;33m.\u001b[0m\u001b[0mprod\u001b[0m\u001b[1;33m(\u001b[0m\u001b[0mimg_shape\u001b[0m\u001b[1;33m)\u001b[0m\u001b[1;33m)\u001b[0m\u001b[1;33m)\u001b[0m\u001b[1;33m\u001b[0m\u001b[1;33m\u001b[0m\u001b[0m\n\u001b[0m\u001b[0;32m     30\u001b[0m \u001b[0mdecoder\u001b[0m\u001b[1;33m.\u001b[0m\u001b[0madd\u001b[0m\u001b[1;33m(\u001b[0m\u001b[0mReshape\u001b[0m\u001b[1;33m(\u001b[0m\u001b[1;33m(\u001b[0m\u001b[1;36m256\u001b[0m\u001b[1;33m,\u001b[0m\u001b[1;36m256\u001b[0m\u001b[1;33m,\u001b[0m\u001b[1;36m3\u001b[0m\u001b[1;33m)\u001b[0m\u001b[1;33m)\u001b[0m\u001b[1;33m)\u001b[0m\u001b[1;33m\u001b[0m\u001b[1;33m\u001b[0m\u001b[0m\n",
      "\u001b[1;32m~\\Anaconda3\\envs\\keras-gpu\\lib\\site-packages\\tensorflow\\python\\training\\tracking\\base.py\u001b[0m in \u001b[0;36m_method_wrapper\u001b[1;34m(self, *args, **kwargs)\u001b[0m\n\u001b[0;32m    455\u001b[0m     \u001b[0mself\u001b[0m\u001b[1;33m.\u001b[0m\u001b[0m_self_setattr_tracking\u001b[0m \u001b[1;33m=\u001b[0m \u001b[1;32mFalse\u001b[0m  \u001b[1;31m# pylint: disable=protected-access\u001b[0m\u001b[1;33m\u001b[0m\u001b[1;33m\u001b[0m\u001b[0m\n\u001b[0;32m    456\u001b[0m     \u001b[1;32mtry\u001b[0m\u001b[1;33m:\u001b[0m\u001b[1;33m\u001b[0m\u001b[1;33m\u001b[0m\u001b[0m\n\u001b[1;32m--> 457\u001b[1;33m       \u001b[0mresult\u001b[0m \u001b[1;33m=\u001b[0m \u001b[0mmethod\u001b[0m\u001b[1;33m(\u001b[0m\u001b[0mself\u001b[0m\u001b[1;33m,\u001b[0m \u001b[1;33m*\u001b[0m\u001b[0margs\u001b[0m\u001b[1;33m,\u001b[0m \u001b[1;33m**\u001b[0m\u001b[0mkwargs\u001b[0m\u001b[1;33m)\u001b[0m\u001b[1;33m\u001b[0m\u001b[1;33m\u001b[0m\u001b[0m\n\u001b[0m\u001b[0;32m    458\u001b[0m     \u001b[1;32mfinally\u001b[0m\u001b[1;33m:\u001b[0m\u001b[1;33m\u001b[0m\u001b[1;33m\u001b[0m\u001b[0m\n\u001b[0;32m    459\u001b[0m       \u001b[0mself\u001b[0m\u001b[1;33m.\u001b[0m\u001b[0m_self_setattr_tracking\u001b[0m \u001b[1;33m=\u001b[0m \u001b[0mprevious_value\u001b[0m  \u001b[1;31m# pylint: disable=protected-access\u001b[0m\u001b[1;33m\u001b[0m\u001b[1;33m\u001b[0m\u001b[0m\n",
      "\u001b[1;32m~\\Anaconda3\\envs\\keras-gpu\\lib\\site-packages\\tensorflow\\python\\keras\\engine\\sequential.py\u001b[0m in \u001b[0;36madd\u001b[1;34m(self, layer)\u001b[0m\n\u001b[0;32m    219\u001b[0m       \u001b[1;31m# If the model is being built continuously on top of an input layer:\u001b[0m\u001b[1;33m\u001b[0m\u001b[1;33m\u001b[0m\u001b[1;33m\u001b[0m\u001b[0m\n\u001b[0;32m    220\u001b[0m       \u001b[1;31m# refresh its output.\u001b[0m\u001b[1;33m\u001b[0m\u001b[1;33m\u001b[0m\u001b[1;33m\u001b[0m\u001b[0m\n\u001b[1;32m--> 221\u001b[1;33m       \u001b[0moutput_tensor\u001b[0m \u001b[1;33m=\u001b[0m \u001b[0mlayer\u001b[0m\u001b[1;33m(\u001b[0m\u001b[0mself\u001b[0m\u001b[1;33m.\u001b[0m\u001b[0moutputs\u001b[0m\u001b[1;33m[\u001b[0m\u001b[1;36m0\u001b[0m\u001b[1;33m]\u001b[0m\u001b[1;33m)\u001b[0m\u001b[1;33m\u001b[0m\u001b[1;33m\u001b[0m\u001b[0m\n\u001b[0m\u001b[0;32m    222\u001b[0m       \u001b[1;32mif\u001b[0m \u001b[0mlen\u001b[0m\u001b[1;33m(\u001b[0m\u001b[0mnest\u001b[0m\u001b[1;33m.\u001b[0m\u001b[0mflatten\u001b[0m\u001b[1;33m(\u001b[0m\u001b[0moutput_tensor\u001b[0m\u001b[1;33m)\u001b[0m\u001b[1;33m)\u001b[0m \u001b[1;33m!=\u001b[0m \u001b[1;36m1\u001b[0m\u001b[1;33m:\u001b[0m\u001b[1;33m\u001b[0m\u001b[1;33m\u001b[0m\u001b[0m\n\u001b[0;32m    223\u001b[0m         \u001b[1;32mraise\u001b[0m \u001b[0mValueError\u001b[0m\u001b[1;33m(\u001b[0m\u001b[0mSINGLE_LAYER_OUTPUT_ERROR_MSG\u001b[0m\u001b[1;33m)\u001b[0m\u001b[1;33m\u001b[0m\u001b[1;33m\u001b[0m\u001b[0m\n",
      "\u001b[1;32m~\\Anaconda3\\envs\\keras-gpu\\lib\\site-packages\\tensorflow\\python\\keras\\engine\\base_layer.py\u001b[0m in \u001b[0;36m__call__\u001b[1;34m(self, *args, **kwargs)\u001b[0m\n\u001b[0;32m    924\u001b[0m     \u001b[1;32mif\u001b[0m \u001b[0m_in_functional_construction_mode\u001b[0m\u001b[1;33m(\u001b[0m\u001b[0mself\u001b[0m\u001b[1;33m,\u001b[0m \u001b[0minputs\u001b[0m\u001b[1;33m,\u001b[0m \u001b[0margs\u001b[0m\u001b[1;33m,\u001b[0m \u001b[0mkwargs\u001b[0m\u001b[1;33m,\u001b[0m \u001b[0minput_list\u001b[0m\u001b[1;33m)\u001b[0m\u001b[1;33m:\u001b[0m\u001b[1;33m\u001b[0m\u001b[1;33m\u001b[0m\u001b[0m\n\u001b[0;32m    925\u001b[0m       return self._functional_construction_call(inputs, args, kwargs,\n\u001b[1;32m--> 926\u001b[1;33m                                                 input_list)\n\u001b[0m\u001b[0;32m    927\u001b[0m \u001b[1;33m\u001b[0m\u001b[0m\n\u001b[0;32m    928\u001b[0m     \u001b[1;31m# Maintains info about the `Layer.call` stack.\u001b[0m\u001b[1;33m\u001b[0m\u001b[1;33m\u001b[0m\u001b[1;33m\u001b[0m\u001b[0m\n",
      "\u001b[1;32m~\\Anaconda3\\envs\\keras-gpu\\lib\\site-packages\\tensorflow\\python\\keras\\engine\\base_layer.py\u001b[0m in \u001b[0;36m_functional_construction_call\u001b[1;34m(self, inputs, args, kwargs, input_list)\u001b[0m\n\u001b[0;32m   1096\u001b[0m         \u001b[1;31m# Build layer if applicable (if the `build` method has been\u001b[0m\u001b[1;33m\u001b[0m\u001b[1;33m\u001b[0m\u001b[1;33m\u001b[0m\u001b[0m\n\u001b[0;32m   1097\u001b[0m         \u001b[1;31m# overridden).\u001b[0m\u001b[1;33m\u001b[0m\u001b[1;33m\u001b[0m\u001b[1;33m\u001b[0m\u001b[0m\n\u001b[1;32m-> 1098\u001b[1;33m         \u001b[0mself\u001b[0m\u001b[1;33m.\u001b[0m\u001b[0m_maybe_build\u001b[0m\u001b[1;33m(\u001b[0m\u001b[0minputs\u001b[0m\u001b[1;33m)\u001b[0m\u001b[1;33m\u001b[0m\u001b[1;33m\u001b[0m\u001b[0m\n\u001b[0m\u001b[0;32m   1099\u001b[0m         \u001b[0mcast_inputs\u001b[0m \u001b[1;33m=\u001b[0m \u001b[0mself\u001b[0m\u001b[1;33m.\u001b[0m\u001b[0m_maybe_cast_inputs\u001b[0m\u001b[1;33m(\u001b[0m\u001b[0minputs\u001b[0m\u001b[1;33m,\u001b[0m \u001b[0minput_list\u001b[0m\u001b[1;33m)\u001b[0m\u001b[1;33m\u001b[0m\u001b[1;33m\u001b[0m\u001b[0m\n\u001b[0;32m   1100\u001b[0m \u001b[1;33m\u001b[0m\u001b[0m\n",
      "\u001b[1;32m~\\Anaconda3\\envs\\keras-gpu\\lib\\site-packages\\tensorflow\\python\\keras\\engine\\base_layer.py\u001b[0m in \u001b[0;36m_maybe_build\u001b[1;34m(self, inputs)\u001b[0m\n\u001b[0;32m   2641\u001b[0m         \u001b[1;31m# operations.\u001b[0m\u001b[1;33m\u001b[0m\u001b[1;33m\u001b[0m\u001b[1;33m\u001b[0m\u001b[0m\n\u001b[0;32m   2642\u001b[0m         \u001b[1;32mwith\u001b[0m \u001b[0mtf_utils\u001b[0m\u001b[1;33m.\u001b[0m\u001b[0mmaybe_init_scope\u001b[0m\u001b[1;33m(\u001b[0m\u001b[0mself\u001b[0m\u001b[1;33m)\u001b[0m\u001b[1;33m:\u001b[0m\u001b[1;33m\u001b[0m\u001b[1;33m\u001b[0m\u001b[0m\n\u001b[1;32m-> 2643\u001b[1;33m           \u001b[0mself\u001b[0m\u001b[1;33m.\u001b[0m\u001b[0mbuild\u001b[0m\u001b[1;33m(\u001b[0m\u001b[0minput_shapes\u001b[0m\u001b[1;33m)\u001b[0m  \u001b[1;31m# pylint:disable=not-callable\u001b[0m\u001b[1;33m\u001b[0m\u001b[1;33m\u001b[0m\u001b[0m\n\u001b[0m\u001b[0;32m   2644\u001b[0m       \u001b[1;31m# We must set also ensure that the layer is marked as built, and the build\u001b[0m\u001b[1;33m\u001b[0m\u001b[1;33m\u001b[0m\u001b[1;33m\u001b[0m\u001b[0m\n\u001b[0;32m   2645\u001b[0m       \u001b[1;31m# shape is stored since user defined build functions may not be calling\u001b[0m\u001b[1;33m\u001b[0m\u001b[1;33m\u001b[0m\u001b[1;33m\u001b[0m\u001b[0m\n",
      "\u001b[1;32m~\\Anaconda3\\envs\\keras-gpu\\lib\\site-packages\\tensorflow\\python\\keras\\layers\\core.py\u001b[0m in \u001b[0;36mbuild\u001b[1;34m(self, input_shape)\u001b[0m\n\u001b[0;32m   1176\u001b[0m         \u001b[0mconstraint\u001b[0m\u001b[1;33m=\u001b[0m\u001b[0mself\u001b[0m\u001b[1;33m.\u001b[0m\u001b[0mkernel_constraint\u001b[0m\u001b[1;33m,\u001b[0m\u001b[1;33m\u001b[0m\u001b[1;33m\u001b[0m\u001b[0m\n\u001b[0;32m   1177\u001b[0m         \u001b[0mdtype\u001b[0m\u001b[1;33m=\u001b[0m\u001b[0mself\u001b[0m\u001b[1;33m.\u001b[0m\u001b[0mdtype\u001b[0m\u001b[1;33m,\u001b[0m\u001b[1;33m\u001b[0m\u001b[1;33m\u001b[0m\u001b[0m\n\u001b[1;32m-> 1178\u001b[1;33m         trainable=True)\n\u001b[0m\u001b[0;32m   1179\u001b[0m     \u001b[1;32mif\u001b[0m \u001b[0mself\u001b[0m\u001b[1;33m.\u001b[0m\u001b[0muse_bias\u001b[0m\u001b[1;33m:\u001b[0m\u001b[1;33m\u001b[0m\u001b[1;33m\u001b[0m\u001b[0m\n\u001b[0;32m   1180\u001b[0m       self.bias = self.add_weight(\n",
      "\u001b[1;32m~\\Anaconda3\\envs\\keras-gpu\\lib\\site-packages\\tensorflow\\python\\keras\\engine\\base_layer.py\u001b[0m in \u001b[0;36madd_weight\u001b[1;34m(self, name, shape, dtype, initializer, regularizer, trainable, constraint, partitioner, use_resource, synchronization, aggregation, **kwargs)\u001b[0m\n\u001b[0;32m    612\u001b[0m         \u001b[0msynchronization\u001b[0m\u001b[1;33m=\u001b[0m\u001b[0msynchronization\u001b[0m\u001b[1;33m,\u001b[0m\u001b[1;33m\u001b[0m\u001b[1;33m\u001b[0m\u001b[0m\n\u001b[0;32m    613\u001b[0m         \u001b[0maggregation\u001b[0m\u001b[1;33m=\u001b[0m\u001b[0maggregation\u001b[0m\u001b[1;33m,\u001b[0m\u001b[1;33m\u001b[0m\u001b[1;33m\u001b[0m\u001b[0m\n\u001b[1;32m--> 614\u001b[1;33m         caching_device=caching_device)\n\u001b[0m\u001b[0;32m    615\u001b[0m     \u001b[1;32mif\u001b[0m \u001b[0mregularizer\u001b[0m \u001b[1;32mis\u001b[0m \u001b[1;32mnot\u001b[0m \u001b[1;32mNone\u001b[0m\u001b[1;33m:\u001b[0m\u001b[1;33m\u001b[0m\u001b[1;33m\u001b[0m\u001b[0m\n\u001b[0;32m    616\u001b[0m       \u001b[1;31m# TODO(fchollet): in the future, this should be handled at the\u001b[0m\u001b[1;33m\u001b[0m\u001b[1;33m\u001b[0m\u001b[1;33m\u001b[0m\u001b[0m\n",
      "\u001b[1;32m~\\Anaconda3\\envs\\keras-gpu\\lib\\site-packages\\tensorflow\\python\\training\\tracking\\base.py\u001b[0m in \u001b[0;36m_add_variable_with_custom_getter\u001b[1;34m(self, name, shape, dtype, initializer, getter, overwrite, **kwargs_for_getter)\u001b[0m\n\u001b[0;32m    748\u001b[0m         \u001b[0mdtype\u001b[0m\u001b[1;33m=\u001b[0m\u001b[0mdtype\u001b[0m\u001b[1;33m,\u001b[0m\u001b[1;33m\u001b[0m\u001b[1;33m\u001b[0m\u001b[0m\n\u001b[0;32m    749\u001b[0m         \u001b[0minitializer\u001b[0m\u001b[1;33m=\u001b[0m\u001b[0minitializer\u001b[0m\u001b[1;33m,\u001b[0m\u001b[1;33m\u001b[0m\u001b[1;33m\u001b[0m\u001b[0m\n\u001b[1;32m--> 750\u001b[1;33m         **kwargs_for_getter)\n\u001b[0m\u001b[0;32m    751\u001b[0m \u001b[1;33m\u001b[0m\u001b[0m\n\u001b[0;32m    752\u001b[0m     \u001b[1;31m# If we set an initializer and the variable processed it, tracking will not\u001b[0m\u001b[1;33m\u001b[0m\u001b[1;33m\u001b[0m\u001b[1;33m\u001b[0m\u001b[0m\n",
      "\u001b[1;32m~\\Anaconda3\\envs\\keras-gpu\\lib\\site-packages\\tensorflow\\python\\keras\\engine\\base_layer_utils.py\u001b[0m in \u001b[0;36mmake_variable\u001b[1;34m(name, shape, dtype, initializer, trainable, caching_device, validate_shape, constraint, use_resource, collections, synchronization, aggregation, partitioner)\u001b[0m\n\u001b[0;32m    143\u001b[0m       \u001b[0msynchronization\u001b[0m\u001b[1;33m=\u001b[0m\u001b[0msynchronization\u001b[0m\u001b[1;33m,\u001b[0m\u001b[1;33m\u001b[0m\u001b[1;33m\u001b[0m\u001b[0m\n\u001b[0;32m    144\u001b[0m       \u001b[0maggregation\u001b[0m\u001b[1;33m=\u001b[0m\u001b[0maggregation\u001b[0m\u001b[1;33m,\u001b[0m\u001b[1;33m\u001b[0m\u001b[1;33m\u001b[0m\u001b[0m\n\u001b[1;32m--> 145\u001b[1;33m       shape=variable_shape if variable_shape else None)\n\u001b[0m\u001b[0;32m    146\u001b[0m \u001b[1;33m\u001b[0m\u001b[0m\n\u001b[0;32m    147\u001b[0m \u001b[1;33m\u001b[0m\u001b[0m\n",
      "\u001b[1;32m~\\Anaconda3\\envs\\keras-gpu\\lib\\site-packages\\tensorflow\\python\\ops\\variables.py\u001b[0m in \u001b[0;36m__call__\u001b[1;34m(cls, *args, **kwargs)\u001b[0m\n\u001b[0;32m    258\u001b[0m   \u001b[1;32mdef\u001b[0m \u001b[0m__call__\u001b[0m\u001b[1;33m(\u001b[0m\u001b[0mcls\u001b[0m\u001b[1;33m,\u001b[0m \u001b[1;33m*\u001b[0m\u001b[0margs\u001b[0m\u001b[1;33m,\u001b[0m \u001b[1;33m**\u001b[0m\u001b[0mkwargs\u001b[0m\u001b[1;33m)\u001b[0m\u001b[1;33m:\u001b[0m\u001b[1;33m\u001b[0m\u001b[1;33m\u001b[0m\u001b[0m\n\u001b[0;32m    259\u001b[0m     \u001b[1;32mif\u001b[0m \u001b[0mcls\u001b[0m \u001b[1;32mis\u001b[0m \u001b[0mVariableV1\u001b[0m\u001b[1;33m:\u001b[0m\u001b[1;33m\u001b[0m\u001b[1;33m\u001b[0m\u001b[0m\n\u001b[1;32m--> 260\u001b[1;33m       \u001b[1;32mreturn\u001b[0m \u001b[0mcls\u001b[0m\u001b[1;33m.\u001b[0m\u001b[0m_variable_v1_call\u001b[0m\u001b[1;33m(\u001b[0m\u001b[1;33m*\u001b[0m\u001b[0margs\u001b[0m\u001b[1;33m,\u001b[0m \u001b[1;33m**\u001b[0m\u001b[0mkwargs\u001b[0m\u001b[1;33m)\u001b[0m\u001b[1;33m\u001b[0m\u001b[1;33m\u001b[0m\u001b[0m\n\u001b[0m\u001b[0;32m    261\u001b[0m     \u001b[1;32melif\u001b[0m \u001b[0mcls\u001b[0m \u001b[1;32mis\u001b[0m \u001b[0mVariable\u001b[0m\u001b[1;33m:\u001b[0m\u001b[1;33m\u001b[0m\u001b[1;33m\u001b[0m\u001b[0m\n\u001b[0;32m    262\u001b[0m       \u001b[1;32mreturn\u001b[0m \u001b[0mcls\u001b[0m\u001b[1;33m.\u001b[0m\u001b[0m_variable_v2_call\u001b[0m\u001b[1;33m(\u001b[0m\u001b[1;33m*\u001b[0m\u001b[0margs\u001b[0m\u001b[1;33m,\u001b[0m \u001b[1;33m**\u001b[0m\u001b[0mkwargs\u001b[0m\u001b[1;33m)\u001b[0m\u001b[1;33m\u001b[0m\u001b[1;33m\u001b[0m\u001b[0m\n",
      "\u001b[1;32m~\\Anaconda3\\envs\\keras-gpu\\lib\\site-packages\\tensorflow\\python\\ops\\variables.py\u001b[0m in \u001b[0;36m_variable_v1_call\u001b[1;34m(cls, initial_value, trainable, collections, validate_shape, caching_device, name, variable_def, dtype, expected_shape, import_scope, constraint, use_resource, synchronization, aggregation, shape)\u001b[0m\n\u001b[0;32m    219\u001b[0m         \u001b[0msynchronization\u001b[0m\u001b[1;33m=\u001b[0m\u001b[0msynchronization\u001b[0m\u001b[1;33m,\u001b[0m\u001b[1;33m\u001b[0m\u001b[1;33m\u001b[0m\u001b[0m\n\u001b[0;32m    220\u001b[0m         \u001b[0maggregation\u001b[0m\u001b[1;33m=\u001b[0m\u001b[0maggregation\u001b[0m\u001b[1;33m,\u001b[0m\u001b[1;33m\u001b[0m\u001b[1;33m\u001b[0m\u001b[0m\n\u001b[1;32m--> 221\u001b[1;33m         shape=shape)\n\u001b[0m\u001b[0;32m    222\u001b[0m \u001b[1;33m\u001b[0m\u001b[0m\n\u001b[0;32m    223\u001b[0m   def _variable_v2_call(cls,\n",
      "\u001b[1;32m~\\Anaconda3\\envs\\keras-gpu\\lib\\site-packages\\tensorflow\\python\\ops\\variables.py\u001b[0m in \u001b[0;36m<lambda>\u001b[1;34m(**kwargs)\u001b[0m\n\u001b[0;32m    197\u001b[0m                         shape=None):\n\u001b[0;32m    198\u001b[0m     \u001b[1;34m\"\"\"Call on Variable class. Useful to force the signature.\"\"\"\u001b[0m\u001b[1;33m\u001b[0m\u001b[1;33m\u001b[0m\u001b[0m\n\u001b[1;32m--> 199\u001b[1;33m     \u001b[0mprevious_getter\u001b[0m \u001b[1;33m=\u001b[0m \u001b[1;32mlambda\u001b[0m \u001b[1;33m**\u001b[0m\u001b[0mkwargs\u001b[0m\u001b[1;33m:\u001b[0m \u001b[0mdefault_variable_creator\u001b[0m\u001b[1;33m(\u001b[0m\u001b[1;32mNone\u001b[0m\u001b[1;33m,\u001b[0m \u001b[1;33m**\u001b[0m\u001b[0mkwargs\u001b[0m\u001b[1;33m)\u001b[0m\u001b[1;33m\u001b[0m\u001b[1;33m\u001b[0m\u001b[0m\n\u001b[0m\u001b[0;32m    200\u001b[0m     \u001b[1;32mfor\u001b[0m \u001b[0m_\u001b[0m\u001b[1;33m,\u001b[0m \u001b[0mgetter\u001b[0m \u001b[1;32min\u001b[0m \u001b[0mops\u001b[0m\u001b[1;33m.\u001b[0m\u001b[0mget_default_graph\u001b[0m\u001b[1;33m(\u001b[0m\u001b[1;33m)\u001b[0m\u001b[1;33m.\u001b[0m\u001b[0m_variable_creator_stack\u001b[0m\u001b[1;33m:\u001b[0m  \u001b[1;31m# pylint: disable=protected-access\u001b[0m\u001b[1;33m\u001b[0m\u001b[1;33m\u001b[0m\u001b[0m\n\u001b[0;32m    201\u001b[0m       \u001b[0mprevious_getter\u001b[0m \u001b[1;33m=\u001b[0m \u001b[0m_make_getter\u001b[0m\u001b[1;33m(\u001b[0m\u001b[0mgetter\u001b[0m\u001b[1;33m,\u001b[0m \u001b[0mprevious_getter\u001b[0m\u001b[1;33m)\u001b[0m\u001b[1;33m\u001b[0m\u001b[1;33m\u001b[0m\u001b[0m\n",
      "\u001b[1;32m~\\Anaconda3\\envs\\keras-gpu\\lib\\site-packages\\tensorflow\\python\\ops\\variable_scope.py\u001b[0m in \u001b[0;36mdefault_variable_creator\u001b[1;34m(next_creator, **kwargs)\u001b[0m\n\u001b[0;32m   2595\u001b[0m         \u001b[0msynchronization\u001b[0m\u001b[1;33m=\u001b[0m\u001b[0msynchronization\u001b[0m\u001b[1;33m,\u001b[0m\u001b[1;33m\u001b[0m\u001b[1;33m\u001b[0m\u001b[0m\n\u001b[0;32m   2596\u001b[0m         \u001b[0maggregation\u001b[0m\u001b[1;33m=\u001b[0m\u001b[0maggregation\u001b[0m\u001b[1;33m,\u001b[0m\u001b[1;33m\u001b[0m\u001b[1;33m\u001b[0m\u001b[0m\n\u001b[1;32m-> 2597\u001b[1;33m         shape=shape)\n\u001b[0m\u001b[0;32m   2598\u001b[0m   \u001b[1;32melse\u001b[0m\u001b[1;33m:\u001b[0m\u001b[1;33m\u001b[0m\u001b[1;33m\u001b[0m\u001b[0m\n\u001b[0;32m   2599\u001b[0m     return variables.RefVariable(\n",
      "\u001b[1;32m~\\Anaconda3\\envs\\keras-gpu\\lib\\site-packages\\tensorflow\\python\\ops\\variables.py\u001b[0m in \u001b[0;36m__call__\u001b[1;34m(cls, *args, **kwargs)\u001b[0m\n\u001b[0;32m    262\u001b[0m       \u001b[1;32mreturn\u001b[0m \u001b[0mcls\u001b[0m\u001b[1;33m.\u001b[0m\u001b[0m_variable_v2_call\u001b[0m\u001b[1;33m(\u001b[0m\u001b[1;33m*\u001b[0m\u001b[0margs\u001b[0m\u001b[1;33m,\u001b[0m \u001b[1;33m**\u001b[0m\u001b[0mkwargs\u001b[0m\u001b[1;33m)\u001b[0m\u001b[1;33m\u001b[0m\u001b[1;33m\u001b[0m\u001b[0m\n\u001b[0;32m    263\u001b[0m     \u001b[1;32melse\u001b[0m\u001b[1;33m:\u001b[0m\u001b[1;33m\u001b[0m\u001b[1;33m\u001b[0m\u001b[0m\n\u001b[1;32m--> 264\u001b[1;33m       \u001b[1;32mreturn\u001b[0m \u001b[0msuper\u001b[0m\u001b[1;33m(\u001b[0m\u001b[0mVariableMetaclass\u001b[0m\u001b[1;33m,\u001b[0m \u001b[0mcls\u001b[0m\u001b[1;33m)\u001b[0m\u001b[1;33m.\u001b[0m\u001b[0m__call__\u001b[0m\u001b[1;33m(\u001b[0m\u001b[1;33m*\u001b[0m\u001b[0margs\u001b[0m\u001b[1;33m,\u001b[0m \u001b[1;33m**\u001b[0m\u001b[0mkwargs\u001b[0m\u001b[1;33m)\u001b[0m\u001b[1;33m\u001b[0m\u001b[1;33m\u001b[0m\u001b[0m\n\u001b[0m\u001b[0;32m    265\u001b[0m \u001b[1;33m\u001b[0m\u001b[0m\n\u001b[0;32m    266\u001b[0m \u001b[1;33m\u001b[0m\u001b[0m\n",
      "\u001b[1;32m~\\Anaconda3\\envs\\keras-gpu\\lib\\site-packages\\tensorflow\\python\\ops\\resource_variable_ops.py\u001b[0m in \u001b[0;36m__init__\u001b[1;34m(self, initial_value, trainable, collections, validate_shape, caching_device, name, dtype, variable_def, import_scope, constraint, distribute_strategy, synchronization, aggregation, shape)\u001b[0m\n\u001b[0;32m   1516\u001b[0m           \u001b[0maggregation\u001b[0m\u001b[1;33m=\u001b[0m\u001b[0maggregation\u001b[0m\u001b[1;33m,\u001b[0m\u001b[1;33m\u001b[0m\u001b[1;33m\u001b[0m\u001b[0m\n\u001b[0;32m   1517\u001b[0m           \u001b[0mshape\u001b[0m\u001b[1;33m=\u001b[0m\u001b[0mshape\u001b[0m\u001b[1;33m,\u001b[0m\u001b[1;33m\u001b[0m\u001b[1;33m\u001b[0m\u001b[0m\n\u001b[1;32m-> 1518\u001b[1;33m           distribute_strategy=distribute_strategy)\n\u001b[0m\u001b[0;32m   1519\u001b[0m \u001b[1;33m\u001b[0m\u001b[0m\n\u001b[0;32m   1520\u001b[0m   def _init_from_args(self,\n",
      "\u001b[1;32m~\\Anaconda3\\envs\\keras-gpu\\lib\\site-packages\\tensorflow\\python\\ops\\resource_variable_ops.py\u001b[0m in \u001b[0;36m_init_from_args\u001b[1;34m(self, initial_value, trainable, collections, caching_device, name, dtype, constraint, synchronization, aggregation, distribute_strategy, shape)\u001b[0m\n\u001b[0;32m   1649\u001b[0m           \u001b[1;32mwith\u001b[0m \u001b[0mops\u001b[0m\u001b[1;33m.\u001b[0m\u001b[0mname_scope\u001b[0m\u001b[1;33m(\u001b[0m\u001b[1;34m\"Initializer\"\u001b[0m\u001b[1;33m)\u001b[0m\u001b[1;33m,\u001b[0m \u001b[0mdevice_context_manager\u001b[0m\u001b[1;33m(\u001b[0m\u001b[1;32mNone\u001b[0m\u001b[1;33m)\u001b[0m\u001b[1;33m:\u001b[0m\u001b[1;33m\u001b[0m\u001b[1;33m\u001b[0m\u001b[0m\n\u001b[0;32m   1650\u001b[0m             initial_value = ops.convert_to_tensor(\n\u001b[1;32m-> 1651\u001b[1;33m                 \u001b[0minitial_value\u001b[0m\u001b[1;33m(\u001b[0m\u001b[1;33m)\u001b[0m \u001b[1;32mif\u001b[0m \u001b[0minit_from_fn\u001b[0m \u001b[1;32melse\u001b[0m \u001b[0minitial_value\u001b[0m\u001b[1;33m,\u001b[0m\u001b[1;33m\u001b[0m\u001b[1;33m\u001b[0m\u001b[0m\n\u001b[0m\u001b[0;32m   1652\u001b[0m                 name=\"initial_value\", dtype=dtype)\n\u001b[0;32m   1653\u001b[0m           \u001b[1;32mif\u001b[0m \u001b[0mshape\u001b[0m \u001b[1;32mis\u001b[0m \u001b[1;32mnot\u001b[0m \u001b[1;32mNone\u001b[0m\u001b[1;33m:\u001b[0m\u001b[1;33m\u001b[0m\u001b[1;33m\u001b[0m\u001b[0m\n",
      "\u001b[1;32m~\\Anaconda3\\envs\\keras-gpu\\lib\\site-packages\\tensorflow\\python\\keras\\initializers\\initializers_v2.py\u001b[0m in \u001b[0;36m__call__\u001b[1;34m(self, shape, dtype)\u001b[0m\n\u001b[0;32m    395\u001b[0m        \u001b[1;33m(\u001b[0m\u001b[0mvia\u001b[0m\u001b[0;31m \u001b[0m\u001b[0;31m`\u001b[0m\u001b[0mtf\u001b[0m\u001b[1;33m.\u001b[0m\u001b[0mkeras\u001b[0m\u001b[1;33m.\u001b[0m\u001b[0mbackend\u001b[0m\u001b[1;33m.\u001b[0m\u001b[0mset_floatx\u001b[0m\u001b[1;33m(\u001b[0m\u001b[0mfloat_dtype\u001b[0m\u001b[1;33m)\u001b[0m\u001b[0;31m`\u001b[0m\u001b[1;33m)\u001b[0m\u001b[1;33m\u001b[0m\u001b[1;33m\u001b[0m\u001b[0m\n\u001b[0;32m    396\u001b[0m     \"\"\"\n\u001b[1;32m--> 397\u001b[1;33m     \u001b[1;32mreturn\u001b[0m \u001b[0msuper\u001b[0m\u001b[1;33m(\u001b[0m\u001b[0mVarianceScaling\u001b[0m\u001b[1;33m,\u001b[0m \u001b[0mself\u001b[0m\u001b[1;33m)\u001b[0m\u001b[1;33m.\u001b[0m\u001b[0m__call__\u001b[0m\u001b[1;33m(\u001b[0m\u001b[0mshape\u001b[0m\u001b[1;33m,\u001b[0m \u001b[0mdtype\u001b[0m\u001b[1;33m=\u001b[0m\u001b[0m_get_dtype\u001b[0m\u001b[1;33m(\u001b[0m\u001b[0mdtype\u001b[0m\u001b[1;33m)\u001b[0m\u001b[1;33m)\u001b[0m\u001b[1;33m\u001b[0m\u001b[1;33m\u001b[0m\u001b[0m\n\u001b[0m\u001b[0;32m    398\u001b[0m \u001b[1;33m\u001b[0m\u001b[0m\n\u001b[0;32m    399\u001b[0m \u001b[1;33m\u001b[0m\u001b[0m\n",
      "\u001b[1;32m~\\Anaconda3\\envs\\keras-gpu\\lib\\site-packages\\tensorflow\\python\\ops\\init_ops_v2.py\u001b[0m in \u001b[0;36m__call__\u001b[1;34m(self, shape, dtype)\u001b[0m\n\u001b[0;32m    559\u001b[0m     \u001b[1;32melse\u001b[0m\u001b[1;33m:\u001b[0m\u001b[1;33m\u001b[0m\u001b[1;33m\u001b[0m\u001b[0m\n\u001b[0;32m    560\u001b[0m       \u001b[0mlimit\u001b[0m \u001b[1;33m=\u001b[0m \u001b[0mmath\u001b[0m\u001b[1;33m.\u001b[0m\u001b[0msqrt\u001b[0m\u001b[1;33m(\u001b[0m\u001b[1;36m3.0\u001b[0m \u001b[1;33m*\u001b[0m \u001b[0mscale\u001b[0m\u001b[1;33m)\u001b[0m\u001b[1;33m\u001b[0m\u001b[1;33m\u001b[0m\u001b[0m\n\u001b[1;32m--> 561\u001b[1;33m       \u001b[1;32mreturn\u001b[0m \u001b[0mself\u001b[0m\u001b[1;33m.\u001b[0m\u001b[0m_random_generator\u001b[0m\u001b[1;33m.\u001b[0m\u001b[0mrandom_uniform\u001b[0m\u001b[1;33m(\u001b[0m\u001b[0mshape\u001b[0m\u001b[1;33m,\u001b[0m \u001b[1;33m-\u001b[0m\u001b[0mlimit\u001b[0m\u001b[1;33m,\u001b[0m \u001b[0mlimit\u001b[0m\u001b[1;33m,\u001b[0m \u001b[0mdtype\u001b[0m\u001b[1;33m)\u001b[0m\u001b[1;33m\u001b[0m\u001b[1;33m\u001b[0m\u001b[0m\n\u001b[0m\u001b[0;32m    562\u001b[0m \u001b[1;33m\u001b[0m\u001b[0m\n\u001b[0;32m    563\u001b[0m   \u001b[1;32mdef\u001b[0m \u001b[0mget_config\u001b[0m\u001b[1;33m(\u001b[0m\u001b[0mself\u001b[0m\u001b[1;33m)\u001b[0m\u001b[1;33m:\u001b[0m\u001b[1;33m\u001b[0m\u001b[1;33m\u001b[0m\u001b[0m\n",
      "\u001b[1;32m~\\Anaconda3\\envs\\keras-gpu\\lib\\site-packages\\tensorflow\\python\\ops\\init_ops_v2.py\u001b[0m in \u001b[0;36mrandom_uniform\u001b[1;34m(self, shape, minval, maxval, dtype)\u001b[0m\n\u001b[0;32m   1042\u001b[0m       \u001b[0mop\u001b[0m \u001b[1;33m=\u001b[0m \u001b[0mrandom_ops\u001b[0m\u001b[1;33m.\u001b[0m\u001b[0mrandom_uniform\u001b[0m\u001b[1;33m\u001b[0m\u001b[1;33m\u001b[0m\u001b[0m\n\u001b[0;32m   1043\u001b[0m     return op(\n\u001b[1;32m-> 1044\u001b[1;33m         shape=shape, minval=minval, maxval=maxval, dtype=dtype, seed=self.seed)\n\u001b[0m\u001b[0;32m   1045\u001b[0m \u001b[1;33m\u001b[0m\u001b[0m\n\u001b[0;32m   1046\u001b[0m   \u001b[1;32mdef\u001b[0m \u001b[0mtruncated_normal\u001b[0m\u001b[1;33m(\u001b[0m\u001b[0mself\u001b[0m\u001b[1;33m,\u001b[0m \u001b[0mshape\u001b[0m\u001b[1;33m,\u001b[0m \u001b[0mmean\u001b[0m\u001b[1;33m,\u001b[0m \u001b[0mstddev\u001b[0m\u001b[1;33m,\u001b[0m \u001b[0mdtype\u001b[0m\u001b[1;33m)\u001b[0m\u001b[1;33m:\u001b[0m\u001b[1;33m\u001b[0m\u001b[1;33m\u001b[0m\u001b[0m\n",
      "\u001b[1;32m~\\Anaconda3\\envs\\keras-gpu\\lib\\site-packages\\tensorflow\\python\\util\\dispatch.py\u001b[0m in \u001b[0;36mwrapper\u001b[1;34m(*args, **kwargs)\u001b[0m\n\u001b[0;32m    199\u001b[0m     \u001b[1;34m\"\"\"Call target, and fall back on dispatchers if there is a TypeError.\"\"\"\u001b[0m\u001b[1;33m\u001b[0m\u001b[1;33m\u001b[0m\u001b[0m\n\u001b[0;32m    200\u001b[0m     \u001b[1;32mtry\u001b[0m\u001b[1;33m:\u001b[0m\u001b[1;33m\u001b[0m\u001b[1;33m\u001b[0m\u001b[0m\n\u001b[1;32m--> 201\u001b[1;33m       \u001b[1;32mreturn\u001b[0m \u001b[0mtarget\u001b[0m\u001b[1;33m(\u001b[0m\u001b[1;33m*\u001b[0m\u001b[0margs\u001b[0m\u001b[1;33m,\u001b[0m \u001b[1;33m**\u001b[0m\u001b[0mkwargs\u001b[0m\u001b[1;33m)\u001b[0m\u001b[1;33m\u001b[0m\u001b[1;33m\u001b[0m\u001b[0m\n\u001b[0m\u001b[0;32m    202\u001b[0m     \u001b[1;32mexcept\u001b[0m \u001b[1;33m(\u001b[0m\u001b[0mTypeError\u001b[0m\u001b[1;33m,\u001b[0m \u001b[0mValueError\u001b[0m\u001b[1;33m)\u001b[0m\u001b[1;33m:\u001b[0m\u001b[1;33m\u001b[0m\u001b[1;33m\u001b[0m\u001b[0m\n\u001b[0;32m    203\u001b[0m       \u001b[1;31m# Note: convert_to_eager_tensor currently raises a ValueError, not a\u001b[0m\u001b[1;33m\u001b[0m\u001b[1;33m\u001b[0m\u001b[1;33m\u001b[0m\u001b[0m\n",
      "\u001b[1;32m~\\Anaconda3\\envs\\keras-gpu\\lib\\site-packages\\tensorflow\\python\\ops\\random_ops.py\u001b[0m in \u001b[0;36mrandom_uniform\u001b[1;34m(shape, minval, maxval, dtype, seed, name)\u001b[0m\n\u001b[0;32m    300\u001b[0m     \u001b[1;32melse\u001b[0m\u001b[1;33m:\u001b[0m\u001b[1;33m\u001b[0m\u001b[1;33m\u001b[0m\u001b[0m\n\u001b[0;32m    301\u001b[0m       result = gen_random_ops.random_uniform(\n\u001b[1;32m--> 302\u001b[1;33m           shape, dtype, seed=seed1, seed2=seed2)\n\u001b[0m\u001b[0;32m    303\u001b[0m       \u001b[1;32mif\u001b[0m \u001b[0mminval_is_zero\u001b[0m\u001b[1;33m:\u001b[0m\u001b[1;33m\u001b[0m\u001b[1;33m\u001b[0m\u001b[0m\n\u001b[0;32m    304\u001b[0m         \u001b[1;32mif\u001b[0m \u001b[1;32mnot\u001b[0m \u001b[0mmaxval_is_one\u001b[0m\u001b[1;33m:\u001b[0m\u001b[1;33m\u001b[0m\u001b[1;33m\u001b[0m\u001b[0m\n",
      "\u001b[1;32m~\\Anaconda3\\envs\\keras-gpu\\lib\\site-packages\\tensorflow\\python\\ops\\gen_random_ops.py\u001b[0m in \u001b[0;36mrandom_uniform\u001b[1;34m(shape, dtype, seed, seed2, name)\u001b[0m\n\u001b[0;32m    724\u001b[0m       \u001b[1;32mreturn\u001b[0m \u001b[0m_result\u001b[0m\u001b[1;33m\u001b[0m\u001b[1;33m\u001b[0m\u001b[0m\n\u001b[0;32m    725\u001b[0m     \u001b[1;32mexcept\u001b[0m \u001b[0m_core\u001b[0m\u001b[1;33m.\u001b[0m\u001b[0m_NotOkStatusException\u001b[0m \u001b[1;32mas\u001b[0m \u001b[0me\u001b[0m\u001b[1;33m:\u001b[0m\u001b[1;33m\u001b[0m\u001b[1;33m\u001b[0m\u001b[0m\n\u001b[1;32m--> 726\u001b[1;33m       \u001b[0m_ops\u001b[0m\u001b[1;33m.\u001b[0m\u001b[0mraise_from_not_ok_status\u001b[0m\u001b[1;33m(\u001b[0m\u001b[0me\u001b[0m\u001b[1;33m,\u001b[0m \u001b[0mname\u001b[0m\u001b[1;33m)\u001b[0m\u001b[1;33m\u001b[0m\u001b[1;33m\u001b[0m\u001b[0m\n\u001b[0m\u001b[0;32m    727\u001b[0m     \u001b[1;32mexcept\u001b[0m \u001b[0m_core\u001b[0m\u001b[1;33m.\u001b[0m\u001b[0m_FallbackException\u001b[0m\u001b[1;33m:\u001b[0m\u001b[1;33m\u001b[0m\u001b[1;33m\u001b[0m\u001b[0m\n\u001b[0;32m    728\u001b[0m       \u001b[1;32mpass\u001b[0m\u001b[1;33m\u001b[0m\u001b[1;33m\u001b[0m\u001b[0m\n",
      "\u001b[1;32m~\\Anaconda3\\envs\\keras-gpu\\lib\\site-packages\\tensorflow\\python\\framework\\ops.py\u001b[0m in \u001b[0;36mraise_from_not_ok_status\u001b[1;34m(e, name)\u001b[0m\n\u001b[0;32m   6841\u001b[0m   \u001b[0mmessage\u001b[0m \u001b[1;33m=\u001b[0m \u001b[0me\u001b[0m\u001b[1;33m.\u001b[0m\u001b[0mmessage\u001b[0m \u001b[1;33m+\u001b[0m \u001b[1;33m(\u001b[0m\u001b[1;34m\" name: \"\u001b[0m \u001b[1;33m+\u001b[0m \u001b[0mname\u001b[0m \u001b[1;32mif\u001b[0m \u001b[0mname\u001b[0m \u001b[1;32mis\u001b[0m \u001b[1;32mnot\u001b[0m \u001b[1;32mNone\u001b[0m \u001b[1;32melse\u001b[0m \u001b[1;34m\"\"\u001b[0m\u001b[1;33m)\u001b[0m\u001b[1;33m\u001b[0m\u001b[1;33m\u001b[0m\u001b[0m\n\u001b[0;32m   6842\u001b[0m   \u001b[1;31m# pylint: disable=protected-access\u001b[0m\u001b[1;33m\u001b[0m\u001b[1;33m\u001b[0m\u001b[1;33m\u001b[0m\u001b[0m\n\u001b[1;32m-> 6843\u001b[1;33m   \u001b[0msix\u001b[0m\u001b[1;33m.\u001b[0m\u001b[0mraise_from\u001b[0m\u001b[1;33m(\u001b[0m\u001b[0mcore\u001b[0m\u001b[1;33m.\u001b[0m\u001b[0m_status_to_exception\u001b[0m\u001b[1;33m(\u001b[0m\u001b[0me\u001b[0m\u001b[1;33m.\u001b[0m\u001b[0mcode\u001b[0m\u001b[1;33m,\u001b[0m \u001b[0mmessage\u001b[0m\u001b[1;33m)\u001b[0m\u001b[1;33m,\u001b[0m \u001b[1;32mNone\u001b[0m\u001b[1;33m)\u001b[0m\u001b[1;33m\u001b[0m\u001b[1;33m\u001b[0m\u001b[0m\n\u001b[0m\u001b[0;32m   6844\u001b[0m   \u001b[1;31m# pylint: enable=protected-access\u001b[0m\u001b[1;33m\u001b[0m\u001b[1;33m\u001b[0m\u001b[1;33m\u001b[0m\u001b[0m\n\u001b[0;32m   6845\u001b[0m \u001b[1;33m\u001b[0m\u001b[0m\n",
      "\u001b[1;32m~\\Anaconda3\\envs\\keras-gpu\\lib\\site-packages\\six.py\u001b[0m in \u001b[0;36mraise_from\u001b[1;34m(value, from_value)\u001b[0m\n",
      "\u001b[1;31mResourceExhaustedError\u001b[0m: OOM when allocating tensor with shape[172800,196608] and type float on /job:localhost/replica:0/task:0/device:GPU:0 by allocator GPU_0_bfc [Op:RandomUniform]"
     ]
    }
   ],
   "source": [
    "code_size=32\n",
    "pad ='same'\n",
    "img_shape=[256,256,3]\n",
    "encoder = Sequential()\n",
    "encoder.add(Conv2D(filters=32,kernel_size=3,input_shape=(256,256,3)))\n",
    "encoder.add(MaxPool2D(pool_size=(2,2)))\n",
    "encoder.add(Conv2D(filters=16,kernel_size=3))\n",
    "encoder.add(MaxPool2D(pool_size=(2,2)))\n",
    "encoder.add(Conv2D(filters=8,kernel_size=3))\n",
    "encoder.add(MaxPool2D(pool_size=(2,2)))\n",
    "encoder.add(Flatten())\n",
    "encoder.add(Dense(code_size))\n",
    "\n",
    "#The Decoder\n",
    "shape_pooling = encoder.layers[-3].output_shape\n",
    "shape_flatten = encoder.layers[-2].output_shape\n",
    "decoder = Sequential()\n",
    "decoder.add(Dense(shape_flatten[1],input_shape=(code_size,)))\n",
    "decoder.add(Reshape((shape_pooling[1],shape_pooling[2],shape_pooling[3])))\n",
    "# decoder.add(UpSampling2D(size=(2,2)))\n",
    "decoder.add(Conv2D(filters=8,kernel_size=5,padding=pad))\n",
    "decoder.add(UpSampling2D(size=(2,2)))\n",
    "decoder.add(Conv2D(filters=16,kernel_size=3,padding=pad))\n",
    "decoder.add(UpSampling2D(size=(2,2)))\n",
    "decoder.add(Conv2D(filters=32,kernel_size=3,padding=pad))\n",
    "decoder.add(UpSampling2D(size=(2,2)))\n",
    "decoder.add(Conv2D(filters=3,kernel_size=3,padding=pad))\n",
    "decoder.add(Flatten())\n",
    "decoder.add(Dense(np.prod(img_shape)))\n",
    "decoder.add(Reshape((256,256,3)))"
   ]
  },
  {
   "cell_type": "code",
   "execution_count": null,
   "metadata": {},
   "outputs": [],
   "source": [
    "decoder.summary()"
   ]
  },
  {
   "cell_type": "code",
   "execution_count": 83,
   "metadata": {},
   "outputs": [
    {
     "data": {
      "text/plain": [
       "196608"
      ]
     },
     "execution_count": 83,
     "metadata": {},
     "output_type": "execute_result"
    }
   ],
   "source": [
    "img_shape=[256,256,3]\n",
    "np.prod(img_shape)"
   ]
  },
  {
   "cell_type": "code",
   "execution_count": null,
   "metadata": {},
   "outputs": [],
   "source": []
  },
  {
   "cell_type": "code",
   "execution_count": null,
   "metadata": {},
   "outputs": [],
   "source": []
  },
  {
   "cell_type": "code",
   "execution_count": null,
   "metadata": {},
   "outputs": [],
   "source": []
  },
  {
   "cell_type": "code",
   "execution_count": null,
   "metadata": {},
   "outputs": [],
   "source": []
  },
  {
   "cell_type": "code",
   "execution_count": null,
   "metadata": {},
   "outputs": [],
   "source": []
  },
  {
   "cell_type": "code",
   "execution_count": null,
   "metadata": {},
   "outputs": [],
   "source": []
  },
  {
   "cell_type": "code",
   "execution_count": null,
   "metadata": {},
   "outputs": [],
   "source": []
  },
  {
   "cell_type": "code",
   "execution_count": null,
   "metadata": {},
   "outputs": [],
   "source": []
  },
  {
   "cell_type": "code",
   "execution_count": 59,
   "metadata": {},
   "outputs": [
    {
     "name": "stdout",
     "output_type": "stream",
     "text": [
      "Model: \"sequential_22\"\n",
      "_________________________________________________________________\n",
      "Layer (type)                 Output Shape              Param #   \n",
      "=================================================================\n",
      "conv2d_69 (Conv2D)           (None, 254, 254, 32)      896       \n",
      "_________________________________________________________________\n",
      "max_pooling2d_33 (MaxPooling (None, 127, 127, 32)      0         \n",
      "_________________________________________________________________\n",
      "conv2d_70 (Conv2D)           (None, 125, 125, 16)      4624      \n",
      "_________________________________________________________________\n",
      "max_pooling2d_34 (MaxPooling (None, 62, 62, 16)        0         \n",
      "_________________________________________________________________\n",
      "conv2d_71 (Conv2D)           (None, 60, 60, 8)         1160      \n",
      "_________________________________________________________________\n",
      "max_pooling2d_35 (MaxPooling (None, 30, 30, 8)         0         \n",
      "_________________________________________________________________\n",
      "flatten_11 (Flatten)         (None, 7200)              0         \n",
      "_________________________________________________________________\n",
      "dense_15 (Dense)             (None, 32)                230432    \n",
      "=================================================================\n",
      "Total params: 237,112\n",
      "Trainable params: 237,112\n",
      "Non-trainable params: 0\n",
      "_________________________________________________________________\n"
     ]
    }
   ],
   "source": [
    "encoder.summary()"
   ]
  },
  {
   "cell_type": "code",
   "execution_count": null,
   "metadata": {},
   "outputs": [],
   "source": []
  },
  {
   "cell_type": "markdown",
   "metadata": {},
   "source": [
    "## Preliminary "
   ]
  },
  {
   "cell_type": "code",
   "execution_count": 2,
   "metadata": {},
   "outputs": [],
   "source": [
    "# http://www.cs.columbia.edu/CAVE/databases/pubfig/download/lfw_attributes.txt\n",
    "ATTRS_NAME = \"lfw_attributes.txt\"\n",
    "\n",
    "# http://vis-www.cs.umass.edu/lfw/lfw-deepfunneled.tgz\n",
    "IMAGES_NAME = \"lfw-deepfunneled.tgz\"\n",
    "\n",
    "# http://vis-www.cs.umass.edu/lfw/lfw.tgz\n",
    "RAW_IMAGES_NAME = \"lfw.tgz\""
   ]
  },
  {
   "cell_type": "code",
   "execution_count": 98,
   "metadata": {},
   "outputs": [],
   "source": [
    "### Data Loader\n",
    "'''\n",
    "The code of the data loaded is being taken from the website\n",
    "https://stackabuse.com/autoencoders-for-image-reconstruction-in-python-and-keras/\n",
    "'''\n",
    "def decode_image_from_raw_bytes(raw_bytes):\n",
    "    img = cv2.imdecode(np.asarray(bytearray(raw_bytes), dtype=np.uint8), 1)\n",
    "    img = cv2.cvtColor(img, cv2.COLOR_BGR2RGB)\n",
    "    return img\n",
    "def load_lfw_dataset(\n",
    "        use_raw=False,\n",
    "        dx=80, dy=80,\n",
    "        dimx=45, dimy=45):\n",
    "\n",
    "    # Read attrs\n",
    "    df_attrs = pd.read_csv(ATTRS_NAME, sep='\\t', skiprows=1)\n",
    "    df_attrs = pd.DataFrame(df_attrs.iloc[:, :-1].values, columns=df_attrs.columns[1:])\n",
    "    imgs_with_attrs = set(map(tuple, df_attrs[[\"person\", \"imagenum\"]].values))\n",
    "\n",
    "    # Read photos\n",
    "    all_photos = []\n",
    "    photo_ids = []\n",
    "\n",
    "    with tarfile.open(RAW_IMAGES_NAME if use_raw else IMAGES_NAME) as f:\n",
    "        for m in tqdm.tqdm_notebook(f.getmembers()):\n",
    "            # Only process image files from the compressed data\n",
    "            if m.isfile() and m.name.endswith(\".jpg\"):\n",
    "                # Prepare image\n",
    "                img = decode_image_from_raw_bytes(f.extractfile(m).read())\n",
    "\n",
    "                # Crop only faces and resize it\n",
    "                img = img[dy:-dy, dx:-dx]\n",
    "                img = cv2.resize(img, (dimx, dimy))\n",
    "\n",
    "                # Parse person and append it to the collected data\n",
    "                fname = os.path.split(m.name)[-1]\n",
    "                fname_splitted = fname[:-4].replace('_', ' ').split()\n",
    "                person_id = ' '.join(fname_splitted[:-1])\n",
    "                photo_number = int(fname_splitted[-1])\n",
    "                if (person_id, photo_number) in imgs_with_attrs:\n",
    "                    all_photos.append(img)\n",
    "                    photo_ids.append({'person': person_id, 'imagenum': photo_number})\n",
    "\n",
    "    photo_ids = pd.DataFrame(photo_ids)\n",
    "    all_photos = np.stack(all_photos).astype('uint8')\n",
    "\n",
    "    # Preserve photo_ids order!\n",
    "    all_attrs = photo_ids.merge(df_attrs, on=('person', 'imagenum')).drop([\"person\", \"imagenum\"], axis=1)\n",
    "\n",
    "    return all_photos, all_attrs\n",
    "\n",
    "### Model\n",
    "def build_autoencoder(img_shape, code_size,name):\n",
    "    if name == 'Simple':\n",
    "        # The encoder\n",
    "        encoder = Sequential()\n",
    "        encoder.add(InputLayer(img_shape))\n",
    "        encoder.add(Flatten())\n",
    "        encoder.add(Dense(code_size))\n",
    "\n",
    "        # The decoder\n",
    "        decoder = Sequential()\n",
    "        decoder.add(InputLayer((code_size,)))\n",
    "        decoder.add(Dense(np.prod(img_shape))) # np.prod(img_shape) is the same as 32*32*3, it's more generic than saying 3072\n",
    "        decoder.add(Reshape(img_shape))\n",
    "\n",
    "        return encoder, decoder\n",
    "    \n",
    "    elif name == 'CNN':\n",
    "        pad='same'\n",
    "        #The encoder\n",
    "        encoder = Sequential()\n",
    "        encoder.add(Conv2D(filters=128,kernel_size=3,input_shape=(img_shape)))\n",
    "        encoder.add(MaxPool2D(pool_size=(2,2)))\n",
    "        encoder.add(Conv2D(filters=64,kernel_size=3))\n",
    "        encoder.add(MaxPool2D(pool_size=(2,2)))\n",
    "        encoder.add(Conv2D(filters=32,kernel_size=3))\n",
    "        encoder.add(MaxPool2D(pool_size=(2,2)))\n",
    "        encoder.add(Flatten())\n",
    "        encoder.add(Dense(code_size))\n",
    "\n",
    "        #The Decoder\n",
    "        shape_pooling = encoder.layers[-3].output_shape\n",
    "        shape_flatten = encoder.layers[-2].output_shape\n",
    "        decoder = Sequential()\n",
    "        decoder.add(Dense(shape_flatten[1],input_shape=(code_size,)))\n",
    "        decoder.add(Reshape((shape_pooling[1],shape_pooling[2],shape_pooling[3])))\n",
    "        decoder.add(UpSampling2D(size=(2,2)))\n",
    "        decoder.add(Conv2D(filters=32,kernel_size=3,padding=pad))\n",
    "        decoder.add(UpSampling2D(size=(2,2)))\n",
    "        decoder.add(Conv2D(filters=64,kernel_size=3,padding=pad))\n",
    "        decoder.add(UpSampling2D(size=(2,2)))\n",
    "        decoder.add(Conv2D(filters=128,kernel_size=3,padding=pad))\n",
    "        decoder.add(UpSampling2D(size=(2,2)))\n",
    "        decoder.add(Conv2D(filters=3,kernel_size=3,padding=pad))\n",
    "        \n",
    "        return encoder,decoder\n",
    "\n",
    "### Visualizations\n",
    "def visualize(img,encoder,decoder):\n",
    "    \"\"\"Draws original, encoded and decoded images\"\"\"\n",
    "    code = encoder.predict(img[None])[0]\n",
    "    reco = decoder.predict(code[None])[0]\n",
    "\n",
    "    plt.subplot(1,3,1)\n",
    "    plt.title(\"Original\")\n",
    "    plt.imshow(np.clip(img, 0, 1))\n",
    "\n",
    "#     plt.subplot(1,3,2)\n",
    "#     plt.title(\"Code\")\n",
    "#     plt.imshow(code.reshape([code.shape[-1]//2,-1]))\n",
    "\n",
    "    plt.subplot(1,3,3)\n",
    "    plt.title(\"Reconstructed\")\n",
    "    plt.imshow(np.clip(reco, 0, 1))\n",
    "    plt.show()\n",
    "    \n",
    "    print('-'*30,'SSIM:',ssim(img[0],reco[0],multichannel=True),'-'*30)\n",
    "    \n",
    "    return\n",
    "\n",
    "### Metric\n",
    "def overall_ssim(actual,predicted):\n",
    "    assert len(actual)==len(predicted)\n",
    "    results = []\n",
    "    for i in range(len(actual)):\n",
    "        s = ssim(actual[i],predicted[i],multichannel=True)\n",
    "        results.append(s)\n",
    "    results = np.array(results)\n",
    "    return np.mean(results)"
   ]
  },
  {
   "cell_type": "markdown",
   "metadata": {},
   "source": [
    "## Main"
   ]
  },
  {
   "cell_type": "markdown",
   "metadata": {},
   "source": [
    "### Data Preparation"
   ]
  },
  {
   "cell_type": "code",
   "execution_count": 86,
   "metadata": {},
   "outputs": [
    {
     "name": "stderr",
     "output_type": "stream",
     "text": [
      "C:\\Users\\Saad.LAKES\\Anaconda3\\envs\\keras-gpu\\lib\\site-packages\\ipykernel_launcher.py:25: TqdmDeprecationWarning: This function will be removed in tqdm==5.0.0\n",
      "Please use `tqdm.notebook.tqdm` instead of `tqdm.tqdm_notebook`\n"
     ]
    },
    {
     "data": {
      "application/vnd.jupyter.widget-view+json": {
       "model_id": "7b551adbadf440b8ba28dff87690a408",
       "version_major": 2,
       "version_minor": 0
      },
      "text/plain": [
       "HBox(children=(HTML(value=''), FloatProgress(value=0.0, max=18983.0), HTML(value='')))"
      ]
     },
     "metadata": {},
     "output_type": "display_data"
    },
    {
     "name": "stdout",
     "output_type": "stream",
     "text": [
      "\n"
     ]
    }
   ],
   "source": [
    "X, attr = load_lfw_dataset(use_raw=True, dimx=32, dimy=32)\n",
    "X = X.astype('float32') / 255.0"
   ]
  },
  {
   "cell_type": "code",
   "execution_count": 87,
   "metadata": {},
   "outputs": [
    {
     "data": {
      "image/png": "[encoded data removed]",
      "text/plain": [
       "<Figure size 432x288 with 1 Axes>"
      ]
     },
     "metadata": {
      "needs_background": "light"
     },
     "output_type": "display_data"
    }
   ],
   "source": [
    "num = random.randint(0,len(X))\n",
    "\n",
    "plt.imshow(np.clip(X[num], 0, 1))\n",
    "plt.title(f'Image:{num}')\n",
    "plt.show()"
   ]
  },
  {
   "cell_type": "markdown",
   "metadata": {},
   "source": [
    "### Data Split"
   ]
  },
  {
   "cell_type": "code",
   "execution_count": 88,
   "metadata": {},
   "outputs": [
    {
     "name": "stdout",
     "output_type": "stream",
     "text": [
      "The shape of X_train is (11828, 32, 32, 3)\n",
      "The shape of X_test is (1315, 32, 32, 3)\n"
     ]
    }
   ],
   "source": [
    "X_train, X_test = train_test_split(X, test_size=0.1, random_state=42)\n",
    "print(f'The shape of X_train is {X_train.shape}')\n",
    "print(f'The shape of X_test is {X_test.shape}')"
   ]
  },
  {
   "cell_type": "markdown",
   "metadata": {},
   "source": [
    "### Model Training"
   ]
  },
  {
   "cell_type": "code",
   "execution_count": 99,
   "metadata": {},
   "outputs": [
    {
     "name": "stdout",
     "output_type": "stream",
     "text": [
      "Model: \"functional_25\"\n",
      "_________________________________________________________________\n",
      "Layer (type)                 Output Shape              Param #   \n",
      "=================================================================\n",
      "input_13 (InputLayer)        [(None, 32, 32, 3)]       0         \n",
      "_________________________________________________________________\n",
      "sequential_54 (Sequential)   (None, 1000)              224840    \n",
      "_________________________________________________________________\n",
      "sequential_55 (Sequential)   (None, 32, 32, 3)         233187    \n",
      "=================================================================\n",
      "Total params: 458,027\n",
      "Trainable params: 458,027\n",
      "Non-trainable params: 0\n",
      "_________________________________________________________________\n",
      "None\n"
     ]
    }
   ],
   "source": [
    "IMG_SHAPE = X.shape[1:]\n",
    "embed_size = 1000\n",
    "encoder, decoder = build_autoencoder(IMG_SHAPE, embed_size,name='CNN')\n",
    "\n",
    "inp = Input(IMG_SHAPE)\n",
    "code = encoder(inp)\n",
    "reconstruction = decoder(code)\n",
    "\n",
    "autoencoder = Model(inp,reconstruction)\n",
    "autoencoder.compile(optimizer='adam', loss='mse',metrics=['mae'])\n",
    "\n",
    "print(autoencoder.summary())"
   ]
  },
  {
   "cell_type": "code",
   "execution_count": 100,
   "metadata": {
    "scrolled": true
   },
   "outputs": [
    {
     "name": "stdout",
     "output_type": "stream",
     "text": [
      "Epoch 1/200\n",
      "296/296 [==============================] - 2s 8ms/step - loss: 0.0319 - mae: 0.1186 - val_loss: 0.0148 - val_mae: 0.0901\n",
      "Epoch 2/200\n",
      "296/296 [==============================] - 2s 7ms/step - loss: 0.0137 - mae: 0.0863 - val_loss: 0.0124 - val_mae: 0.0824\n",
      "Epoch 3/200\n",
      "296/296 [==============================] - 2s 7ms/step - loss: 0.0117 - mae: 0.0792 - val_loss: 0.0107 - val_mae: 0.0751\n",
      "Epoch 4/200\n",
      "296/296 [==============================] - 2s 7ms/step - loss: 0.0107 - mae: 0.0756 - val_loss: 0.0100 - val_mae: 0.0727\n",
      "Epoch 5/200\n",
      "296/296 [==============================] - 2s 7ms/step - loss: 0.0101 - mae: 0.0735 - val_loss: 0.0097 - val_mae: 0.0717\n",
      "Epoch 6/200\n",
      "296/296 [==============================] - 2s 7ms/step - loss: 0.0095 - mae: 0.0707 - val_loss: 0.0091 - val_mae: 0.0695\n",
      "Epoch 7/200\n",
      "296/296 [==============================] - 2s 7ms/step - loss: 0.0091 - mae: 0.0693 - val_loss: 0.0088 - val_mae: 0.0680\n",
      "Epoch 8/200\n",
      "296/296 [==============================] - 2s 7ms/step - loss: 0.0087 - mae: 0.0679 - val_loss: 0.0086 - val_mae: 0.0675\n",
      "Epoch 9/200\n",
      "296/296 [==============================] - 2s 7ms/step - loss: 0.0085 - mae: 0.0672 - val_loss: 0.0082 - val_mae: 0.0653\n",
      "Epoch 10/200\n",
      "296/296 [==============================] - 2s 7ms/step - loss: 0.0082 - mae: 0.0660 - val_loss: 0.0081 - val_mae: 0.0653\n",
      "Epoch 11/200\n",
      "296/296 [==============================] - 2s 7ms/step - loss: 0.0080 - mae: 0.0652 - val_loss: 0.0078 - val_mae: 0.0634\n",
      "Epoch 12/200\n",
      "296/296 [==============================] - 2s 7ms/step - loss: 0.0078 - mae: 0.0638 - val_loss: 0.0078 - val_mae: 0.0639\n",
      "Epoch 13/200\n",
      "296/296 [==============================] - 2s 7ms/step - loss: 0.0076 - mae: 0.0630 - val_loss: 0.0075 - val_mae: 0.0628\n",
      "Epoch 14/200\n",
      "296/296 [==============================] - 2s 8ms/step - loss: 0.0075 - mae: 0.0627 - val_loss: 0.0078 - val_mae: 0.0642\n",
      "Epoch 15/200\n",
      "296/296 [==============================] - 2s 7ms/step - loss: 0.0073 - mae: 0.0620 - val_loss: 0.0073 - val_mae: 0.0616\n",
      "Epoch 16/200\n",
      "296/296 [==============================] - 2s 7ms/step - loss: 0.0072 - mae: 0.0614 - val_loss: 0.0071 - val_mae: 0.0611\n",
      "Epoch 17/200\n",
      "296/296 [==============================] - 2s 7ms/step - loss: 0.0071 - mae: 0.0611 - val_loss: 0.0070 - val_mae: 0.0600\n",
      "Epoch 18/200\n",
      "296/296 [==============================] - 2s 7ms/step - loss: 0.0070 - mae: 0.0603 - val_loss: 0.0069 - val_mae: 0.0594\n",
      "Epoch 19/200\n",
      "296/296 [==============================] - 2s 7ms/step - loss: 0.0070 - mae: 0.0605 - val_loss: 0.0068 - val_mae: 0.0591\n",
      "Epoch 20/200\n",
      "296/296 [==============================] - 2s 7ms/step - loss: 0.0068 - mae: 0.0598 - val_loss: 0.0067 - val_mae: 0.0590\n",
      "Epoch 21/200\n",
      "296/296 [==============================] - 2s 7ms/step - loss: 0.0067 - mae: 0.0590 - val_loss: 0.0068 - val_mae: 0.0596\n",
      "Epoch 22/200\n",
      "296/296 [==============================] - 2s 7ms/step - loss: 0.0067 - mae: 0.0591 - val_loss: 0.0067 - val_mae: 0.0593\n",
      "Epoch 23/200\n",
      "296/296 [==============================] - 2s 7ms/step - loss: 0.0066 - mae: 0.0585 - val_loss: 0.0065 - val_mae: 0.0578\n",
      "Epoch 24/200\n",
      "296/296 [==============================] - 2s 7ms/step - loss: 0.0066 - mae: 0.0587 - val_loss: 0.0066 - val_mae: 0.0589\n",
      "Epoch 25/200\n",
      "296/296 [==============================] - 2s 7ms/step - loss: 0.0064 - mae: 0.0579 - val_loss: 0.0064 - val_mae: 0.0577\n",
      "Epoch 26/200\n",
      "296/296 [==============================] - 2s 7ms/step - loss: 0.0064 - mae: 0.0576 - val_loss: 0.0064 - val_mae: 0.0576\n",
      "Epoch 27/200\n",
      "296/296 [==============================] - 2s 7ms/step - loss: 0.0063 - mae: 0.0576 - val_loss: 0.0063 - val_mae: 0.0570\n",
      "Epoch 28/200\n",
      "296/296 [==============================] - 2s 7ms/step - loss: 0.0062 - mae: 0.0571 - val_loss: 0.0062 - val_mae: 0.0566\n",
      "Epoch 29/200\n",
      "296/296 [==============================] - 2s 7ms/step - loss: 0.0062 - mae: 0.0567 - val_loss: 0.0061 - val_mae: 0.0560\n",
      "Epoch 30/200\n",
      "296/296 [==============================] - 2s 7ms/step - loss: 0.0063 - mae: 0.0576 - val_loss: 0.0065 - val_mae: 0.0583\n",
      "Epoch 31/200\n",
      "296/296 [==============================] - 2s 7ms/step - loss: 0.0060 - mae: 0.0559 - val_loss: 0.0062 - val_mae: 0.0565\n",
      "Epoch 32/200\n",
      "296/296 [==============================] - 2s 7ms/step - loss: 0.0060 - mae: 0.0560 - val_loss: 0.0060 - val_mae: 0.0554\n",
      "Epoch 33/200\n",
      "296/296 [==============================] - 2s 7ms/step - loss: 0.0060 - mae: 0.0558 - val_loss: 0.0060 - val_mae: 0.0555\n",
      "Epoch 34/200\n",
      "296/296 [==============================] - 2s 7ms/step - loss: 0.0060 - mae: 0.0558 - val_loss: 0.0059 - val_mae: 0.0550\n",
      "Epoch 35/200\n",
      "296/296 [==============================] - 2s 8ms/step - loss: 0.0059 - mae: 0.0554 - val_loss: 0.0060 - val_mae: 0.0554\n",
      "Epoch 36/200\n",
      "296/296 [==============================] - 2s 7ms/step - loss: 0.0059 - mae: 0.0553 - val_loss: 0.0063 - val_mae: 0.0573\n",
      "Epoch 37/200\n",
      "296/296 [==============================] - 2s 7ms/step - loss: 0.0058 - mae: 0.0551 - val_loss: 0.0059 - val_mae: 0.0548\n",
      "Epoch 38/200\n",
      "296/296 [==============================] - 2s 7ms/step - loss: 0.0058 - mae: 0.0549 - val_loss: 0.0059 - val_mae: 0.0550\n",
      "Epoch 39/200\n",
      "296/296 [==============================] - 2s 7ms/step - loss: 0.0057 - mae: 0.0545 - val_loss: 0.0058 - val_mae: 0.0545\n",
      "Epoch 40/200\n",
      "296/296 [==============================] - 2s 7ms/step - loss: 0.0057 - mae: 0.0546 - val_loss: 0.0058 - val_mae: 0.0544\n",
      "Epoch 41/200\n",
      "296/296 [==============================] - 2s 7ms/step - loss: 0.0056 - mae: 0.0540 - val_loss: 0.0058 - val_mae: 0.0544\n",
      "Epoch 42/200\n",
      "296/296 [==============================] - 2s 7ms/step - loss: 0.0057 - mae: 0.0543 - val_loss: 0.0059 - val_mae: 0.0554\n",
      "Epoch 43/200\n",
      "296/296 [==============================] - 2s 7ms/step - loss: 0.0056 - mae: 0.0539 - val_loss: 0.0057 - val_mae: 0.0538\n",
      "Epoch 44/200\n",
      "296/296 [==============================] - 2s 7ms/step - loss: 0.0057 - mae: 0.0543 - val_loss: 0.0061 - val_mae: 0.0565\n",
      "Epoch 45/200\n",
      "296/296 [==============================] - 2s 8ms/step - loss: 0.0056 - mae: 0.0538 - val_loss: 0.0057 - val_mae: 0.0540\n",
      "Epoch 46/200\n",
      "296/296 [==============================] - 2s 7ms/step - loss: 0.0055 - mae: 0.0533 - val_loss: 0.0057 - val_mae: 0.0540\n",
      "Epoch 47/200\n",
      "296/296 [==============================] - 2s 7ms/step - loss: 0.0055 - mae: 0.0535 - val_loss: 0.0057 - val_mae: 0.0537\n",
      "Epoch 48/200\n",
      "296/296 [==============================] - 2s 7ms/step - loss: 0.0055 - mae: 0.0533 - val_loss: 0.0057 - val_mae: 0.0544\n",
      "Epoch 49/200\n",
      "296/296 [==============================] - 2s 7ms/step - loss: 0.0055 - mae: 0.0535 - val_loss: 0.0059 - val_mae: 0.0555\n",
      "Epoch 50/200\n",
      "296/296 [==============================] - 2s 7ms/step - loss: 0.0055 - mae: 0.0531 - val_loss: 0.0056 - val_mae: 0.0536\n",
      "Epoch 51/200\n",
      "296/296 [==============================] - 2s 7ms/step - loss: 0.0054 - mae: 0.0527 - val_loss: 0.0056 - val_mae: 0.0535\n",
      "Epoch 52/200\n",
      "296/296 [==============================] - 2s 7ms/step - loss: 0.0054 - mae: 0.0529 - val_loss: 0.0056 - val_mae: 0.0531\n",
      "Epoch 53/200\n",
      "296/296 [==============================] - 2s 7ms/step - loss: 0.0054 - mae: 0.0526 - val_loss: 0.0056 - val_mae: 0.0533\n",
      "Epoch 54/200\n",
      "296/296 [==============================] - 2s 8ms/step - loss: 0.0053 - mae: 0.0525 - val_loss: 0.0056 - val_mae: 0.0532\n",
      "Epoch 55/200\n",
      "296/296 [==============================] - 2s 7ms/step - loss: 0.0054 - mae: 0.0528 - val_loss: 0.0056 - val_mae: 0.0537\n",
      "Epoch 56/200\n",
      "296/296 [==============================] - 2s 7ms/step - loss: 0.0053 - mae: 0.0525 - val_loss: 0.0056 - val_mae: 0.0533\n",
      "Epoch 57/200\n",
      "296/296 [==============================] - 2s 7ms/step - loss: 0.0053 - mae: 0.0522 - val_loss: 0.0056 - val_mae: 0.0535\n",
      "Epoch 58/200\n",
      "296/296 [==============================] - 2s 7ms/step - loss: 0.0053 - mae: 0.0524 - val_loss: 0.0056 - val_mae: 0.0534\n",
      "Epoch 59/200\n",
      "296/296 [==============================] - 2s 7ms/step - loss: 0.0053 - mae: 0.0524 - val_loss: 0.0055 - val_mae: 0.0529\n",
      "Epoch 60/200\n",
      "296/296 [==============================] - 2s 7ms/step - loss: 0.0053 - mae: 0.0521 - val_loss: 0.0056 - val_mae: 0.0534\n",
      "Epoch 61/200\n",
      "296/296 [==============================] - 2s 7ms/step - loss: 0.0053 - mae: 0.0521 - val_loss: 0.0054 - val_mae: 0.0521\n",
      "Epoch 62/200\n",
      "296/296 [==============================] - 2s 7ms/step - loss: 0.0053 - mae: 0.0522 - val_loss: 0.0055 - val_mae: 0.0531\n",
      "Epoch 63/200\n",
      "296/296 [==============================] - 2s 7ms/step - loss: 0.0052 - mae: 0.0519 - val_loss: 0.0055 - val_mae: 0.0524\n",
      "Epoch 64/200\n",
      "296/296 [==============================] - 2s 7ms/step - loss: 0.0052 - mae: 0.0519 - val_loss: 0.0055 - val_mae: 0.0530\n",
      "Epoch 65/200\n",
      "296/296 [==============================] - 2s 7ms/step - loss: 0.0052 - mae: 0.0520 - val_loss: 0.0054 - val_mae: 0.0522\n",
      "Epoch 66/200\n",
      "296/296 [==============================] - 2s 7ms/step - loss: 0.0052 - mae: 0.0516 - val_loss: 0.0054 - val_mae: 0.0523\n",
      "Epoch 67/200\n",
      "296/296 [==============================] - 2s 7ms/step - loss: 0.0052 - mae: 0.0518 - val_loss: 0.0056 - val_mae: 0.0538\n",
      "Epoch 68/200\n",
      "296/296 [==============================] - 2s 7ms/step - loss: 0.0052 - mae: 0.0518 - val_loss: 0.0054 - val_mae: 0.0523\n",
      "Epoch 69/200\n",
      "296/296 [==============================] - 2s 7ms/step - loss: 0.0052 - mae: 0.0516 - val_loss: 0.0054 - val_mae: 0.0522\n",
      "Epoch 70/200\n",
      "296/296 [==============================] - 2s 7ms/step - loss: 0.0051 - mae: 0.0515 - val_loss: 0.0055 - val_mae: 0.0527\n",
      "Epoch 71/200\n",
      "296/296 [==============================] - 2s 7ms/step - loss: 0.0051 - mae: 0.0515 - val_loss: 0.0054 - val_mae: 0.0525\n",
      "Epoch 72/200\n",
      "296/296 [==============================] - 2s 7ms/step - loss: 0.0051 - mae: 0.0515 - val_loss: 0.0055 - val_mae: 0.0527\n",
      "Epoch 73/200\n",
      "296/296 [==============================] - 2s 7ms/step - loss: 0.0052 - mae: 0.0517 - val_loss: 0.0054 - val_mae: 0.0526\n",
      "Epoch 74/200\n",
      "296/296 [==============================] - 2s 7ms/step - loss: 0.0051 - mae: 0.0511 - val_loss: 0.0054 - val_mae: 0.0520\n",
      "Epoch 75/200\n",
      "296/296 [==============================] - 2s 7ms/step - loss: 0.0051 - mae: 0.0512 - val_loss: 0.0054 - val_mae: 0.0519\n",
      "Epoch 76/200\n",
      "296/296 [==============================] - 2s 7ms/step - loss: 0.0051 - mae: 0.0512 - val_loss: 0.0054 - val_mae: 0.0523\n",
      "Epoch 77/200\n",
      "296/296 [==============================] - 2s 7ms/step - loss: 0.0051 - mae: 0.0510 - val_loss: 0.0053 - val_mae: 0.0518\n",
      "Epoch 78/200\n",
      "296/296 [==============================] - 2s 7ms/step - loss: 0.0051 - mae: 0.0514 - val_loss: 0.0055 - val_mae: 0.0526\n",
      "Epoch 79/200\n",
      "296/296 [==============================] - 2s 7ms/step - loss: 0.0050 - mae: 0.0510 - val_loss: 0.0054 - val_mae: 0.0522\n",
      "Epoch 80/200\n",
      "296/296 [==============================] - 2s 7ms/step - loss: 0.0051 - mae: 0.0511 - val_loss: 0.0054 - val_mae: 0.0524\n",
      "Epoch 81/200\n",
      "296/296 [==============================] - 2s 7ms/step - loss: 0.0050 - mae: 0.0508 - val_loss: 0.0053 - val_mae: 0.0519\n",
      "Epoch 82/200\n",
      "296/296 [==============================] - 2s 7ms/step - loss: 0.0050 - mae: 0.0511 - val_loss: 0.0053 - val_mae: 0.0516\n",
      "Epoch 83/200\n",
      "296/296 [==============================] - 2s 7ms/step - loss: 0.0050 - mae: 0.0509 - val_loss: 0.0054 - val_mae: 0.0521\n",
      "Epoch 84/200\n",
      "296/296 [==============================] - 2s 7ms/step - loss: 0.0050 - mae: 0.0508 - val_loss: 0.0055 - val_mae: 0.0527\n",
      "Epoch 85/200\n",
      "296/296 [==============================] - 2s 7ms/step - loss: 0.0050 - mae: 0.0509 - val_loss: 0.0054 - val_mae: 0.0522\n",
      "Epoch 86/200\n",
      "296/296 [==============================] - 2s 7ms/step - loss: 0.0050 - mae: 0.0508 - val_loss: 0.0054 - val_mae: 0.0520\n",
      "Epoch 87/200\n",
      "296/296 [==============================] - 2s 7ms/step - loss: 0.0050 - mae: 0.0506 - val_loss: 0.0053 - val_mae: 0.0516\n",
      "Epoch 88/200\n",
      "296/296 [==============================] - 2s 7ms/step - loss: 0.0050 - mae: 0.0508 - val_loss: 0.0053 - val_mae: 0.0518\n",
      "Epoch 89/200\n",
      "296/296 [==============================] - 2s 7ms/step - loss: 0.0050 - mae: 0.0509 - val_loss: 0.0054 - val_mae: 0.0523\n",
      "Epoch 90/200\n",
      "296/296 [==============================] - 2s 7ms/step - loss: 0.0050 - mae: 0.0506 - val_loss: 0.0056 - val_mae: 0.0544\n",
      "Epoch 91/200\n",
      "296/296 [==============================] - 2s 7ms/step - loss: 0.0050 - mae: 0.0506 - val_loss: 0.0054 - val_mae: 0.0523\n",
      "Epoch 92/200\n",
      "296/296 [==============================] - 2s 7ms/step - loss: 0.0049 - mae: 0.0505 - val_loss: 0.0053 - val_mae: 0.0517\n",
      "Epoch 93/200\n",
      "296/296 [==============================] - 2s 7ms/step - loss: 0.0049 - mae: 0.0506 - val_loss: 0.0054 - val_mae: 0.0523\n",
      "Epoch 94/200\n",
      "296/296 [==============================] - 2s 7ms/step - loss: 0.0049 - mae: 0.0506 - val_loss: 0.0055 - val_mae: 0.0531\n",
      "Epoch 95/200\n",
      "296/296 [==============================] - 2s 7ms/step - loss: 0.0049 - mae: 0.0506 - val_loss: 0.0053 - val_mae: 0.0518\n",
      "Epoch 96/200\n",
      "296/296 [==============================] - 2s 7ms/step - loss: 0.0049 - mae: 0.0506 - val_loss: 0.0053 - val_mae: 0.0517\n",
      "Epoch 97/200\n",
      "296/296 [==============================] - 2s 7ms/step - loss: 0.0049 - mae: 0.0502 - val_loss: 0.0053 - val_mae: 0.0513\n",
      "Epoch 98/200\n",
      "296/296 [==============================] - 2s 7ms/step - loss: 0.0049 - mae: 0.0503 - val_loss: 0.0053 - val_mae: 0.0518\n",
      "Epoch 99/200\n",
      "296/296 [==============================] - 2s 7ms/step - loss: 0.0049 - mae: 0.0503 - val_loss: 0.0053 - val_mae: 0.0517\n",
      "Epoch 100/200\n",
      "296/296 [==============================] - 2s 7ms/step - loss: 0.0049 - mae: 0.0503 - val_loss: 0.0053 - val_mae: 0.0517\n",
      "Epoch 101/200\n",
      "296/296 [==============================] - 2s 7ms/step - loss: 0.0049 - mae: 0.0504 - val_loss: 0.0053 - val_mae: 0.0517\n",
      "Epoch 102/200\n",
      "296/296 [==============================] - 2s 7ms/step - loss: 0.0049 - mae: 0.0502 - val_loss: 0.0054 - val_mae: 0.0524\n",
      "Epoch 103/200\n",
      "296/296 [==============================] - 2s 7ms/step - loss: 0.0049 - mae: 0.0504 - val_loss: 0.0053 - val_mae: 0.0514\n",
      "Epoch 104/200\n",
      "296/296 [==============================] - 2s 7ms/step - loss: 0.0049 - mae: 0.0500 - val_loss: 0.0053 - val_mae: 0.0514\n",
      "Epoch 105/200\n",
      "296/296 [==============================] - 2s 7ms/step - loss: 0.0049 - mae: 0.0502 - val_loss: 0.0052 - val_mae: 0.0512\n",
      "Epoch 106/200\n",
      "296/296 [==============================] - 2s 7ms/step - loss: 0.0049 - mae: 0.0501 - val_loss: 0.0053 - val_mae: 0.0516\n",
      "Epoch 107/200\n",
      "296/296 [==============================] - 2s 7ms/step - loss: 0.0049 - mae: 0.0502 - val_loss: 0.0053 - val_mae: 0.0516\n",
      "Epoch 108/200\n",
      "296/296 [==============================] - 2s 7ms/step - loss: 0.0048 - mae: 0.0500 - val_loss: 0.0054 - val_mae: 0.0523\n",
      "Epoch 109/200\n",
      "296/296 [==============================] - 2s 7ms/step - loss: 0.0049 - mae: 0.0501 - val_loss: 0.0053 - val_mae: 0.0516\n",
      "Epoch 110/200\n",
      "296/296 [==============================] - 2s 7ms/step - loss: 0.0048 - mae: 0.0500 - val_loss: 0.0053 - val_mae: 0.0513\n",
      "Epoch 111/200\n",
      "296/296 [==============================] - 2s 7ms/step - loss: 0.0048 - mae: 0.0500 - val_loss: 0.0053 - val_mae: 0.0519\n",
      "Epoch 112/200\n",
      "296/296 [==============================] - 2s 7ms/step - loss: 0.0048 - mae: 0.0501 - val_loss: 0.0053 - val_mae: 0.0519\n",
      "Epoch 113/200\n",
      "296/296 [==============================] - 2s 7ms/step - loss: 0.0048 - mae: 0.0498 - val_loss: 0.0054 - val_mae: 0.0517\n",
      "Epoch 114/200\n",
      "296/296 [==============================] - 2s 7ms/step - loss: 0.0048 - mae: 0.0498 - val_loss: 0.0053 - val_mae: 0.0517\n",
      "Epoch 115/200\n",
      "296/296 [==============================] - 2s 7ms/step - loss: 0.0048 - mae: 0.0500 - val_loss: 0.0054 - val_mae: 0.0523\n",
      "Epoch 116/200\n",
      "296/296 [==============================] - 2s 7ms/step - loss: 0.0048 - mae: 0.0499 - val_loss: 0.0054 - val_mae: 0.0528\n",
      "Epoch 117/200\n",
      "296/296 [==============================] - 2s 7ms/step - loss: 0.0048 - mae: 0.0499 - val_loss: 0.0053 - val_mae: 0.0517\n",
      "Epoch 118/200\n",
      "296/296 [==============================] - 2s 7ms/step - loss: 0.0048 - mae: 0.0499 - val_loss: 0.0052 - val_mae: 0.0509\n",
      "Epoch 119/200\n",
      "296/296 [==============================] - 2s 7ms/step - loss: 0.0048 - mae: 0.0496 - val_loss: 0.0052 - val_mae: 0.0512\n",
      "Epoch 120/200\n",
      "296/296 [==============================] - 2s 7ms/step - loss: 0.0048 - mae: 0.0498 - val_loss: 0.0052 - val_mae: 0.0511\n",
      "Epoch 121/200\n",
      "296/296 [==============================] - 2s 7ms/step - loss: 0.0048 - mae: 0.0496 - val_loss: 0.0052 - val_mae: 0.0509\n",
      "Epoch 122/200\n",
      "296/296 [==============================] - 2s 7ms/step - loss: 0.0048 - mae: 0.0497 - val_loss: 0.0052 - val_mae: 0.0511\n",
      "Epoch 123/200\n"
     ]
    },
    {
     "name": "stdout",
     "output_type": "stream",
     "text": [
      "296/296 [==============================] - 2s 7ms/step - loss: 0.0048 - mae: 0.0496 - val_loss: 0.0053 - val_mae: 0.0513\n",
      "Epoch 124/200\n",
      "296/296 [==============================] - 2s 7ms/step - loss: 0.0048 - mae: 0.0499 - val_loss: 0.0053 - val_mae: 0.0513\n",
      "Epoch 125/200\n",
      "296/296 [==============================] - 2s 8ms/step - loss: 0.0047 - mae: 0.0495 - val_loss: 0.0052 - val_mae: 0.0509\n",
      "Epoch 126/200\n",
      "296/296 [==============================] - 2s 7ms/step - loss: 0.0048 - mae: 0.0495 - val_loss: 0.0053 - val_mae: 0.0519\n",
      "Epoch 127/200\n",
      "296/296 [==============================] - 2s 7ms/step - loss: 0.0048 - mae: 0.0496 - val_loss: 0.0052 - val_mae: 0.0510\n",
      "Epoch 128/200\n",
      "296/296 [==============================] - 2s 7ms/step - loss: 0.0048 - mae: 0.0497 - val_loss: 0.0053 - val_mae: 0.0514\n",
      "Epoch 129/200\n",
      "296/296 [==============================] - 2s 7ms/step - loss: 0.0047 - mae: 0.0495 - val_loss: 0.0052 - val_mae: 0.0510\n",
      "Epoch 130/200\n",
      "296/296 [==============================] - 2s 7ms/step - loss: 69832.3047 - mae: 60.7632 - val_loss: 158.1020 - val_mae: 9.9684\n",
      "Epoch 131/200\n",
      "296/296 [==============================] - 2s 7ms/step - loss: 52.7286 - mae: 5.5732 - val_loss: 33.8796 - val_mae: 4.5125\n",
      "Epoch 132/200\n",
      "296/296 [==============================] - 2s 7ms/step - loss: 28.5746 - mae: 4.1134 - val_loss: 23.9538 - val_mae: 3.7579\n",
      "Epoch 133/200\n",
      "296/296 [==============================] - 2s 7ms/step - loss: 21.2757 - mae: 3.5247 - val_loss: 18.5534 - val_mae: 3.2876\n",
      "Epoch 134/200\n",
      "296/296 [==============================] - 2s 7ms/step - loss: 16.8567 - mae: 3.1257 - val_loss: 14.9984 - val_mae: 2.9516\n",
      "Epoch 135/200\n",
      "296/296 [==============================] - 2s 7ms/step - loss: 13.8442 - mae: 2.8286 - val_loss: 12.4835 - val_mae: 2.6899\n",
      "Epoch 136/200\n",
      "296/296 [==============================] - 2s 7ms/step - loss: 11.6399 - mae: 2.5932 - val_loss: 10.5863 - val_mae: 2.4774\n",
      "Epoch 137/200\n",
      "296/296 [==============================] - 2s 7ms/step - loss: 9.9460 - mae: 2.3980 - val_loss: 9.1074 - val_mae: 2.3001\n",
      "Epoch 138/200\n",
      "296/296 [==============================] - 2s 7ms/step - loss: 8.6011 - mae: 2.2321 - val_loss: 7.9000 - val_mae: 2.1444\n",
      "Epoch 139/200\n",
      "296/296 [==============================] - 2s 7ms/step - loss: 7.4998 - mae: 2.0861 - val_loss: 6.9188 - val_mae: 2.0078\n",
      "Epoch 140/200\n",
      "296/296 [==============================] - 2s 7ms/step - loss: 6.5850 - mae: 1.9561 - val_loss: 6.0745 - val_mae: 1.8827\n",
      "Epoch 141/200\n",
      "296/296 [==============================] - 2s 7ms/step - loss: 5.7994 - mae: 1.8372 - val_loss: 5.3860 - val_mae: 1.7730\n",
      "Epoch 142/200\n",
      "296/296 [==============================] - 2s 7ms/step - loss: 5.1264 - mae: 1.7283 - val_loss: 4.7380 - val_mae: 1.6649\n",
      "Epoch 143/200\n",
      "296/296 [==============================] - 2s 7ms/step - loss: 4.5385 - mae: 1.6268 - val_loss: 4.1902 - val_mae: 1.5661\n",
      "Epoch 144/200\n",
      "296/296 [==============================] - 2s 7ms/step - loss: 4.0180 - mae: 1.5311 - val_loss: 3.7175 - val_mae: 1.4755\n",
      "Epoch 145/200\n",
      "296/296 [==============================] - 2s 7ms/step - loss: 3.5572 - mae: 1.4414 - val_loss: 3.2752 - val_mae: 1.3857\n",
      "Epoch 146/200\n",
      "296/296 [==============================] - 2s 7ms/step - loss: 3.1442 - mae: 1.3554 - val_loss: 2.8896 - val_mae: 1.3023\n",
      "Epoch 147/200\n",
      "296/296 [==============================] - 2s 7ms/step - loss: 2.7737 - mae: 1.2736 - val_loss: 2.5536 - val_mae: 1.2244\n",
      "Epoch 148/200\n",
      "296/296 [==============================] - 2s 7ms/step - loss: 2.4413 - mae: 1.1952 - val_loss: 2.2451 - val_mae: 1.1487\n",
      "Epoch 149/200\n",
      "296/296 [==============================] - 2s 7ms/step - loss: 2.1433 - mae: 1.1204 - val_loss: 1.9633 - val_mae: 1.0748\n",
      "Epoch 150/200\n",
      "296/296 [==============================] - 2s 7ms/step - loss: 1.8761 - mae: 1.0488 - val_loss: 1.7134 - val_mae: 1.0045\n",
      "Epoch 151/200\n",
      "296/296 [==============================] - 2s 7ms/step - loss: 1.6379 - mae: 0.9807 - val_loss: 1.4951 - val_mae: 0.9390\n",
      "Epoch 152/200\n",
      "296/296 [==============================] - 2s 7ms/step - loss: 1.4275 - mae: 0.9159 - val_loss: 1.3023 - val_mae: 0.8769\n",
      "Epoch 153/200\n",
      "296/296 [==============================] - 2s 7ms/step - loss: 1.2404 - mae: 0.8544 - val_loss: 1.1311 - val_mae: 0.8179\n",
      "Epoch 154/200\n",
      "296/296 [==============================] - 2s 7ms/step - loss: 1.0757 - mae: 0.7962 - val_loss: 0.9811 - val_mae: 0.7624\n",
      "Epoch 155/200\n",
      "296/296 [==============================] - 2s 7ms/step - loss: 0.9309 - mae: 0.7413 - val_loss: 0.8481 - val_mae: 0.7094\n",
      "Epoch 156/200\n",
      "296/296 [==============================] - 2s 7ms/step - loss: 0.8044 - mae: 0.6896 - val_loss: 0.7324 - val_mae: 0.6598\n",
      "Epoch 157/200\n",
      "296/296 [==============================] - 2s 7ms/step - loss: 0.6941 - mae: 0.6412 - val_loss: 0.6322 - val_mae: 0.6135\n",
      "Epoch 158/200\n",
      "296/296 [==============================] - 2s 7ms/step - loss: 0.5983 - mae: 0.5957 - val_loss: 0.5453 - val_mae: 0.5703\n",
      "Epoch 159/200\n",
      "296/296 [==============================] - 2s 7ms/step - loss: 0.5151 - mae: 0.5534 - val_loss: 0.4706 - val_mae: 0.5303\n",
      "Epoch 160/200\n",
      "296/296 [==============================] - 2s 7ms/step - loss: 0.4435 - mae: 0.5139 - val_loss: 0.4048 - val_mae: 0.4922\n",
      "Epoch 161/200\n",
      "296/296 [==============================] - 2s 7ms/step - loss: 0.3823 - mae: 0.4774 - val_loss: 0.3492 - val_mae: 0.4576\n",
      "Epoch 162/200\n",
      "296/296 [==============================] - 2s 7ms/step - loss: 0.3296 - mae: 0.4437 - val_loss: 0.3015 - val_mae: 0.4254\n",
      "Epoch 163/200\n",
      "296/296 [==============================] - 2s 7ms/step - loss: 0.2848 - mae: 0.4128 - val_loss: 0.2610 - val_mae: 0.3960\n",
      "Epoch 164/200\n",
      "296/296 [==============================] - 2s 7ms/step - loss: 0.2468 - mae: 0.3846 - val_loss: 0.2266 - val_mae: 0.3694\n",
      "Epoch 165/200\n",
      "296/296 [==============================] - 2s 7ms/step - loss: 0.2146 - mae: 0.3588 - val_loss: 0.1975 - val_mae: 0.3449\n",
      "Epoch 166/200\n",
      "296/296 [==============================] - 2s 7ms/step - loss: 0.1872 - mae: 0.3354 - val_loss: 0.1729 - val_mae: 0.3230\n",
      "Epoch 167/200\n",
      "296/296 [==============================] - 2s 7ms/step - loss: 0.1641 - mae: 0.3142 - val_loss: 0.1516 - val_mae: 0.3025\n",
      "Epoch 168/200\n",
      "296/296 [==============================] - 2s 7ms/step - loss: 0.1444 - mae: 0.2949 - val_loss: 0.1336 - val_mae: 0.2841\n",
      "Epoch 169/200\n",
      "296/296 [==============================] - 2s 7ms/step - loss: 0.1276 - mae: 0.2774 - val_loss: 0.1186 - val_mae: 0.2677\n",
      "Epoch 170/200\n",
      "296/296 [==============================] - 2s 7ms/step - loss: 0.1132 - mae: 0.2614 - val_loss: 0.1053 - val_mae: 0.2524\n",
      "Epoch 171/200\n",
      "296/296 [==============================] - 2s 7ms/step - loss: 0.1008 - mae: 0.2467 - val_loss: 0.0941 - val_mae: 0.2387\n",
      "Epoch 172/200\n",
      "296/296 [==============================] - 2s 7ms/step - loss: 0.0900 - mae: 0.2333 - val_loss: 0.0839 - val_mae: 0.2255\n",
      "Epoch 173/200\n",
      "296/296 [==============================] - 2s 7ms/step - loss: 0.0807 - mae: 0.2209 - val_loss: 0.0754 - val_mae: 0.2139\n",
      "Epoch 174/200\n",
      "296/296 [==============================] - 2s 7ms/step - loss: 0.0724 - mae: 0.2094 - val_loss: 0.0678 - val_mae: 0.2028\n",
      "Epoch 175/200\n",
      "296/296 [==============================] - 2s 7ms/step - loss: 0.0653 - mae: 0.1989 - val_loss: 0.0611 - val_mae: 0.1926\n",
      "Epoch 176/200\n",
      "296/296 [==============================] - 2s 7ms/step - loss: 0.0589 - mae: 0.1891 - val_loss: 0.0553 - val_mae: 0.1832\n",
      "Epoch 177/200\n",
      "296/296 [==============================] - 2s 7ms/step - loss: 0.0534 - mae: 0.1799 - val_loss: 0.0501 - val_mae: 0.1745\n",
      "Epoch 178/200\n",
      "296/296 [==============================] - 2s 7ms/step - loss: 0.0485 - mae: 0.1714 - val_loss: 0.0456 - val_mae: 0.1663\n",
      "Epoch 179/200\n",
      "296/296 [==============================] - 2s 7ms/step - loss: 0.0441 - mae: 0.1635 - val_loss: 0.0416 - val_mae: 0.1589\n",
      "Epoch 180/200\n",
      "296/296 [==============================] - 2s 7ms/step - loss: 0.0403 - mae: 0.1562 - val_loss: 0.0381 - val_mae: 0.1520\n",
      "Epoch 181/200\n",
      "296/296 [==============================] - 2s 7ms/step - loss: 0.0369 - mae: 0.1494 - val_loss: 0.0350 - val_mae: 0.1455\n",
      "Epoch 182/200\n",
      "296/296 [==============================] - 2s 7ms/step - loss: 0.0339 - mae: 0.1432 - val_loss: 0.0322 - val_mae: 0.1394\n",
      "Epoch 183/200\n",
      "296/296 [==============================] - 2s 7ms/step - loss: 0.0313 - mae: 0.1374 - val_loss: 0.0298 - val_mae: 0.1340\n",
      "Epoch 184/200\n",
      "296/296 [==============================] - 2s 7ms/step - loss: 0.0290 - mae: 0.1321 - val_loss: 0.0277 - val_mae: 0.1289\n",
      "Epoch 185/200\n",
      "296/296 [==============================] - 2s 7ms/step - loss: 0.0270 - mae: 0.1273 - val_loss: 0.0258 - val_mae: 0.1244\n",
      "Epoch 186/200\n",
      "296/296 [==============================] - 2s 7ms/step - loss: 0.0252 - mae: 0.1228 - val_loss: 0.0242 - val_mae: 0.1201\n",
      "Epoch 187/200\n",
      "296/296 [==============================] - 2s 7ms/step - loss: 0.0236 - mae: 0.1187 - val_loss: 0.0229 - val_mae: 0.1167\n",
      "Epoch 188/200\n",
      "296/296 [==============================] - 2s 7ms/step - loss: 0.0222 - mae: 0.1150 - val_loss: 0.0215 - val_mae: 0.1128\n",
      "Epoch 189/200\n",
      "296/296 [==============================] - 2s 7ms/step - loss: 0.0209 - mae: 0.1114 - val_loss: 0.0202 - val_mae: 0.1093\n",
      "Epoch 190/200\n",
      "296/296 [==============================] - 2s 7ms/step - loss: 0.0198 - mae: 0.1081 - val_loss: 0.0192 - val_mae: 0.1063\n",
      "Epoch 191/200\n",
      "296/296 [==============================] - 2s 7ms/step - loss: 0.0188 - mae: 0.1051 - val_loss: 0.0182 - val_mae: 0.1033\n",
      "Epoch 192/200\n",
      "296/296 [==============================] - 2s 7ms/step - loss: 0.0178 - mae: 0.1021 - val_loss: 0.0173 - val_mae: 0.1006\n",
      "Epoch 193/200\n",
      "296/296 [==============================] - 2s 7ms/step - loss: 0.0169 - mae: 0.0994 - val_loss: 0.0166 - val_mae: 0.0984\n",
      "Epoch 194/200\n",
      "296/296 [==============================] - 2s 7ms/step - loss: 0.0160 - mae: 0.0967 - val_loss: 0.0156 - val_mae: 0.0950\n",
      "Epoch 195/200\n",
      "296/296 [==============================] - 2s 7ms/step - loss: 0.0153 - mae: 0.0942 - val_loss: 0.0149 - val_mae: 0.0929\n",
      "Epoch 196/200\n",
      "296/296 [==============================] - 2s 7ms/step - loss: 0.0146 - mae: 0.0918 - val_loss: 0.0142 - val_mae: 0.0902\n",
      "Epoch 197/200\n",
      "296/296 [==============================] - 2s 7ms/step - loss: 0.0139 - mae: 0.0896 - val_loss: 0.0136 - val_mae: 0.0882\n",
      "Epoch 198/200\n",
      "296/296 [==============================] - 2s 7ms/step - loss: 0.0133 - mae: 0.0874 - val_loss: 0.0130 - val_mae: 0.0862\n",
      "Epoch 199/200\n",
      "296/296 [==============================] - 2s 7ms/step - loss: 0.0127 - mae: 0.0854 - val_loss: 0.0125 - val_mae: 0.0841\n",
      "Epoch 200/200\n",
      "296/296 [==============================] - 2s 7ms/step - loss: 0.0122 - mae: 0.0834 - val_loss: 0.0120 - val_mae: 0.0824\n"
     ]
    },
    {
     "data": {
      "image/png": "[encoded data removed]",
      "text/plain": [
       "<Figure size 432x288 with 1 Axes>"
      ]
     },
     "metadata": {
      "needs_background": "light"
     },
     "output_type": "display_data"
    }
   ],
   "source": [
    "history = autoencoder.fit(x=X_train, y=X_train, epochs=200,validation_split=0.2,batch_size=32)\n",
    "\n",
    "plt.plot(history.history['loss'])\n",
    "plt.plot(history.history['val_loss'])\n",
    "plt.title('model loss')\n",
    "plt.ylabel('loss')\n",
    "plt.xlabel('epoch')\n",
    "plt.legend(['train', 'test'], loc='upper left')\n",
    "plt.show()"
   ]
  },
  {
   "cell_type": "markdown",
   "metadata": {},
   "source": [
    "### Predictions"
   ]
  },
  {
   "cell_type": "code",
   "execution_count": 101,
   "metadata": {},
   "outputs": [
    {
     "data": {
      "image/png": "[encoded data removed]",
      "text/plain": [
       "<Figure size 432x288 with 2 Axes>"
      ]
     },
     "metadata": {
      "needs_background": "light"
     },
     "output_type": "display_data"
    },
    {
     "name": "stdout",
     "output_type": "stream",
     "text": [
      "------------------------------ SSIM: 0.5981239998997084 ------------------------------\n"
     ]
    },
    {
     "data": {
      "image/png": "[encoded data removed]",
      "text/plain": [
       "<Figure size 432x288 with 2 Axes>"
      ]
     },
     "metadata": {
      "needs_background": "light"
     },
     "output_type": "display_data"
    },
    {
     "name": "stdout",
     "output_type": "stream",
     "text": [
      "------------------------------ SSIM: 0.8410119348261306 ------------------------------\n"
     ]
    },
    {
     "data": {
      "image/png": "[encoded data removed]",
      "text/plain": [
       "<Figure size 432x288 with 2 Axes>"
      ]
     },
     "metadata": {
      "needs_background": "light"
     },
     "output_type": "display_data"
    },
    {
     "name": "stdout",
     "output_type": "stream",
     "text": [
      "------------------------------ SSIM: 0.4756390082852528 ------------------------------\n"
     ]
    },
    {
     "data": {
      "image/png": "[encoded data removed]",
      "text/plain": [
       "<Figure size 432x288 with 2 Axes>"
      ]
     },
     "metadata": {
      "needs_background": "light"
     },
     "output_type": "display_data"
    },
    {
     "name": "stdout",
     "output_type": "stream",
     "text": [
      "------------------------------ SSIM: 0.6100590098474307 ------------------------------\n"
     ]
    },
    {
     "data": {
      "image/png": "[encoded data removed]",
      "text/plain": [
       "<Figure size 432x288 with 2 Axes>"
      ]
     },
     "metadata": {
      "needs_background": "light"
     },
     "output_type": "display_data"
    },
    {
     "name": "stdout",
     "output_type": "stream",
     "text": [
      "------------------------------ SSIM: 0.615922251455366 ------------------------------\n"
     ]
    }
   ],
   "source": [
    "num_test = random.sample(range(0,len(X_test)),5)\n",
    "for i in num_test:\n",
    "    img = X_test[i]\n",
    "    visualize(img,encoder,decoder)"
   ]
  },
  {
   "cell_type": "code",
   "execution_count": 102,
   "metadata": {},
   "outputs": [
    {
     "name": "stdout",
     "output_type": "stream",
     "text": [
      "The average Similarity image is : 0.63\n",
      "The compression rate is: 3.07\n"
     ]
    }
   ],
   "source": [
    "bottle = encoder.predict(X_test)\n",
    "predicted = decoder.predict(bottle)\n",
    "\n",
    "print(f'The average Similarity image is : {round(overall_ssim(X_test,predicted),2)}')\n",
    "print(f'The compression rate is: {round((np.prod(IMG_SHAPE)/embed_size),2)}')"
   ]
  },
  {
   "cell_type": "markdown",
   "metadata": {},
   "source": [
    "## Experiment"
   ]
  },
  {
   "cell_type": "code",
   "execution_count": null,
   "metadata": {},
   "outputs": [],
   "source": [
    "show_image(X_test[0])\n",
    "plt.savefig('original.jpg')"
   ]
  },
  {
   "cell_type": "code",
   "execution_count": null,
   "metadata": {},
   "outputs": [],
   "source": [
    "random = X_test[0]\n",
    "random=np.expand_dims(random,axis=0)\n",
    "random.shape"
   ]
  },
  {
   "cell_type": "code",
   "execution_count": null,
   "metadata": {},
   "outputs": [],
   "source": [
    "bottle = encoder.predict(random)\n",
    "bottle.shape"
   ]
  },
  {
   "cell_type": "code",
   "execution_count": null,
   "metadata": {},
   "outputs": [],
   "source": [
    "new_image = decoder.predict(bottle)\n",
    "new_image.shape"
   ]
  },
  {
   "cell_type": "code",
   "execution_count": null,
   "metadata": {},
   "outputs": [],
   "source": [
    "plt.imshow(new_image[0])\n",
    "plt.savefig('reconstructed.jpg')"
   ]
  },
  {
   "cell_type": "code",
   "execution_count": null,
   "metadata": {},
   "outputs": [],
   "source": [
    "s = ssim(random[0], new_image[0],multichannel=True)"
   ]
  },
  {
   "cell_type": "code",
   "execution_count": null,
   "metadata": {},
   "outputs": [],
   "source": [
    "s"
   ]
  },
  {
   "cell_type": "code",
   "execution_count": null,
   "metadata": {},
   "outputs": [],
   "source": [
    "random.sample(range(0, 1000), 10)"
   ]
  },
  {
   "cell_type": "code",
   "execution_count": null,
   "metadata": {},
   "outputs": [],
   "source": []
  },
  {
   "cell_type": "code",
   "execution_count": null,
   "metadata": {},
   "outputs": [],
   "source": []
  },
  {
   "cell_type": "code",
   "execution_count": null,
   "metadata": {},
   "outputs": [],
   "source": []
  },
  {
   "cell_type": "code",
   "execution_count": null,
   "metadata": {},
   "outputs": [],
   "source": []
  },
  {
   "cell_type": "code",
   "execution_count": null,
   "metadata": {},
   "outputs": [],
   "source": []
  },
  {
   "cell_type": "code",
   "execution_count": null,
   "metadata": {},
   "outputs": [],
   "source": []
  },
  {
   "cell_type": "code",
   "execution_count": null,
   "metadata": {},
   "outputs": [],
   "source": []
  },
  {
   "cell_type": "code",
   "execution_count": null,
   "metadata": {},
   "outputs": [],
   "source": []
  }
 ],
 "metadata": {
  "kernelspec": {
   "display_name": "Python 3",
   "language": "python",
   "name": "python3"
  },
  "language_info": {
   "codemirror_mode": {
    "name": "ipython",
    "version": 3
   },
   "file_extension": ".py",
   "mimetype": "text/x-python",
   "name": "python",
   "nbconvert_exporter": "python",
   "pygments_lexer": "ipython3",
   "version": "3.7.9"
  }
 },
 "nbformat": 4,
 "nbformat_minor": 4
}
