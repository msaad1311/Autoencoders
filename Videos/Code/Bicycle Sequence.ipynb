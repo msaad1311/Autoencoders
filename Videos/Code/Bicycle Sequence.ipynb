{
 "cells": [
  {
   "cell_type": "code",
   "execution_count": 1,
   "metadata": {},
   "outputs": [
    {
     "name": "stdout",
     "output_type": "stream",
     "text": [
      "1 Physical GPUs, 1 Logical GPUs\n"
     ]
    }
   ],
   "source": [
    "import tensorflow as tf\n",
    "from tensorflow.keras.layers import Dense, Flatten, Reshape, Input, InputLayer,Conv2D,MaxPool2D,UpSampling2D,\\\n",
    "Conv2DTranspose,Cropping2D\n",
    "from tensorflow.keras.models import Sequential, Model\n",
    "from tensorflow.keras.callbacks import ModelCheckpoint\n",
    "\n",
    "from Autoencoder import *\n",
    "from make_video import *\n",
    "\n",
    "import cv2\n",
    "import os"
   ]
  },
  {
   "cell_type": "code",
   "execution_count": 2,
   "metadata": {},
   "outputs": [],
   "source": [
    "p_old=os.getcwd()"
   ]
  },
  {
   "cell_type": "code",
   "execution_count": 3,
   "metadata": {},
   "outputs": [],
   "source": [
    "p= r'C:\\Users\\saad\\Desktop\\Autoencoders\\Videos\\Results\\Bicycle_Frames'\n",
    "p = p.replace('\\\\','/')\n",
    "os.chdir(p)"
   ]
  },
  {
   "cell_type": "code",
   "execution_count": 4,
   "metadata": {},
   "outputs": [
    {
     "data": {
      "text/plain": [
       "'C:\\\\Users\\\\saad\\\\Desktop\\\\Autoencoders\\\\Videos\\\\Results\\\\Bicycle_Frames'"
      ]
     },
     "execution_count": 4,
     "metadata": {},
     "output_type": "execute_result"
    }
   ],
   "source": [
    "os.getcwd()"
   ]
  },
  {
   "cell_type": "code",
   "execution_count": 5,
   "metadata": {},
   "outputs": [],
   "source": [
    "path = r'C:\\Users\\saad\\Desktop\\Autoencoders\\Videos\\Dataset'\n",
    "vid_name = 'Bicycle_Sequence.mp4'"
   ]
  },
  {
   "cell_type": "code",
   "execution_count": 6,
   "metadata": {},
   "outputs": [
    {
     "name": "stdout",
     "output_type": "stream",
     "text": [
      "Loading Video...\n",
      "Completed\n"
     ]
    }
   ],
   "source": [
    "names,fps,width,height=read_video(os.getcwd(),os.path.join(path,vid_name))"
   ]
  },
  {
   "cell_type": "code",
   "execution_count": 7,
   "metadata": {},
   "outputs": [
    {
     "name": "stdout",
     "output_type": "stream",
     "text": [
      "The fps is 25.0, The width of the frame is 3840 and the height of the frame is 2160\n"
     ]
    }
   ],
   "source": [
    "print(f'The fps is {fps}, The width of the frame is {width} and the height of the frame is {height}')"
   ]
  },
  {
   "cell_type": "code",
   "execution_count": null,
   "metadata": {},
   "outputs": [],
   "source": [
    "names"
   ]
  },
  {
   "cell_type": "code",
   "execution_count": 8,
   "metadata": {},
   "outputs": [
    {
     "name": "stdout",
     "output_type": "stream",
     "text": [
      "The shape of the images is (224, 480, 320, 3)\n"
     ]
    }
   ],
   "source": [
    "images = np.array(read_imgs(os.getcwd(),names,2,640,480))\n",
    "images = images.astype('float32')/255.\n",
    "print(f'The shape of the images is {images.shape}')"
   ]
  },
  {
   "cell_type": "code",
   "execution_count": 9,
   "metadata": {},
   "outputs": [
    {
     "name": "stdout",
     "output_type": "stream",
     "text": [
      "(480, 320, 3)\n"
     ]
    }
   ],
   "source": [
    "img_shape = images.shape[1:]\n",
    "print(img_shape)"
   ]
  },
  {
   "cell_type": "code",
   "execution_count": 10,
   "metadata": {},
   "outputs": [],
   "source": [
    "model1,model2 = build_autoencoder(img_shape,512,'Hi-Res',None)"
   ]
  },
  {
   "cell_type": "code",
   "execution_count": 11,
   "metadata": {},
   "outputs": [],
   "source": [
    "weights = r'C:\\Users\\saad\\Desktop\\Autoencoders\\Videos\\Results\\Weights'\n",
    "weights = weights.replace('\\\\','/')\n"
   ]
  },
  {
   "cell_type": "code",
   "execution_count": 12,
   "metadata": {},
   "outputs": [],
   "source": [
    "model1.load_weights(os.path.join(weights,'model1.hdf5'))\n",
    "model2.load_weights(os.path.join(weights,'model2.hdf5'))"
   ]
  },
  {
   "cell_type": "code",
   "execution_count": 13,
   "metadata": {},
   "outputs": [],
   "source": [
    "img_new = model1.predict(images)"
   ]
  },
  {
   "cell_type": "code",
   "execution_count": 14,
   "metadata": {},
   "outputs": [
    {
     "data": {
      "text/plain": [
       "(224, 480, 320, 3)"
      ]
     },
     "execution_count": 14,
     "metadata": {},
     "output_type": "execute_result"
    }
   ],
   "source": [
    "img_new.shape"
   ]
  },
  {
   "cell_type": "code",
   "execution_count": null,
   "metadata": {},
   "outputs": [],
   "source": [
    "import matplotlib.pyplot as plt\n",
    "plt.imshow(img_new[75,:,:,:])"
   ]
  },
  {
   "cell_type": "code",
   "execution_count": 15,
   "metadata": {},
   "outputs": [
    {
     "name": "stderr",
     "output_type": "stream",
     "text": [
      "100%|████████████████████████████████████████████████████████████████████████████████| 224/224 [00:08<00:00, 26.87it/s]\n"
     ]
    }
   ],
   "source": [
    "from tqdm import tqdm\n",
    "import numpy as np\n",
    "preds=[]\n",
    "for i in tqdm(range(len(img_new))):\n",
    "    preds.append(model2.predict(np.expand_dims(img_new[i],axis=0)))"
   ]
  },
  {
   "cell_type": "code",
   "execution_count": 16,
   "metadata": {},
   "outputs": [
    {
     "data": {
      "text/plain": [
       "(224, 1, 480, 320, 3)"
      ]
     },
     "execution_count": 16,
     "metadata": {},
     "output_type": "execute_result"
    }
   ],
   "source": [
    "pr = np.array(preds)\n",
    "pr.shape"
   ]
  },
  {
   "cell_type": "code",
   "execution_count": 17,
   "metadata": {},
   "outputs": [],
   "source": [
    "pr= pr.reshape(224,480,320,3)"
   ]
  },
  {
   "cell_type": "code",
   "execution_count": null,
   "metadata": {},
   "outputs": [],
   "source": [
    "plt.imshow(pr[75,:,:,:])"
   ]
  },
  {
   "cell_type": "code",
   "execution_count": null,
   "metadata": {},
   "outputs": [],
   "source": [
    "plt.imshow(images[75,:,:,:])"
   ]
  },
  {
   "cell_type": "code",
   "execution_count": null,
   "metadata": {},
   "outputs": [],
   "source": [
    "im = 3\n",
    "plt.figure(figsize=(14,10))\n",
    "\n",
    "plt.subplot(131)\n",
    "plt.imshow(images[im,:,:,:])\n",
    "plt.title('Original')\n",
    "\n",
    "plt.subplot(132)\n",
    "plt.imshow(img_new[im,:,:,:])\n",
    "plt.title('Intermediate')\n",
    "\n",
    "plt.subplot(133)\n",
    "plt.imshow(pr[im,:,:,:])\n",
    "plt.title('Reconstructed')\n",
    "\n",
    "plt.show()"
   ]
  },
  {
   "cell_type": "code",
   "execution_count": 18,
   "metadata": {},
   "outputs": [],
   "source": [
    "predictions = pr * 255."
   ]
  },
  {
   "cell_type": "code",
   "execution_count": 19,
   "metadata": {},
   "outputs": [
    {
     "name": "stderr",
     "output_type": "stream",
     "text": [
      "Frames Saving:  10%|██████▋                                                          | 23/224 [00:00<00:00, 223.17it/s]"
     ]
    },
    {
     "name": "stdout",
     "output_type": "stream",
     "text": [
      "Working on Reconstructed Video\n"
     ]
    },
    {
     "name": "stderr",
     "output_type": "stream",
     "text": [
      "Frames Saving: 100%|████████████████████████████████████████████████████████████████| 224/224 [00:01<00:00, 223.91it/s]\n",
      "Frame Reading: 100%|████████████████████████████████████████████████████████████████| 224/224 [00:01<00:00, 163.58it/s]\n",
      "Concatenating Frames: 100%|██████████████████████████████████████████████████████████| 112/112 [00:01<00:00, 78.97it/s]\n"
     ]
    },
    {
     "name": "stdout",
     "output_type": "stream",
     "text": [
      "Reconstructed Frames removed.\n"
     ]
    }
   ],
   "source": [
    "VIDEO = r'C:\\Users\\saad\\Desktop\\Autoencoders\\Videos\\Results\\Video'\n",
    "video_creater('Recon_bicycle.avi',VIDEO,25.,640,480,predictions) "
   ]
  },
  {
   "cell_type": "code",
   "execution_count": 20,
   "metadata": {},
   "outputs": [
    {
     "name": "stderr",
     "output_type": "stream",
     "text": [
      "Frame Reading:  21%|█████████████▉                                                   | 24/112 [00:00<00:00, 236.36it/s]"
     ]
    },
    {
     "name": "stdout",
     "output_type": "stream",
     "text": [
      "Working on Original Video\n"
     ]
    },
    {
     "name": "stderr",
     "output_type": "stream",
     "text": [
      "Frame Reading: 100%|████████████████████████████████████████████████████████████████| 112/112 [00:00<00:00, 237.36it/s]\n"
     ]
    }
   ],
   "source": [
    " original_video('Original_bicycle.avi',VIDEO,os.getcwd(),25.,names)"
   ]
  },
  {
   "cell_type": "code",
   "execution_count": null,
   "metadata": {},
   "outputs": [],
   "source": [
    "os.getcwd()"
   ]
  },
  {
   "cell_type": "code",
   "execution_count": null,
   "metadata": {},
   "outputs": [],
   "source": []
  }
 ],
 "metadata": {
  "kernelspec": {
   "display_name": "Python 3",
   "language": "python",
   "name": "python3"
  },
  "language_info": {
   "codemirror_mode": {
    "name": "ipython",
    "version": 3
   },
   "file_extension": ".py",
   "mimetype": "text/x-python",
   "name": "python",
   "nbconvert_exporter": "python",
   "pygments_lexer": "ipython3",
   "version": "3.7.9"
  }
 },
 "nbformat": 4,
 "nbformat_minor": 4
}
