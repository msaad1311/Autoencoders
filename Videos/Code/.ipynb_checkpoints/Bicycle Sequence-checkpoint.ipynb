{
 "cells": [
  {
   "cell_type": "code",
   "execution_count": 4,
   "metadata": {},
   "outputs": [],
   "source": [
    "import tensorflow as tf\n",
    "from tensorflow.keras.layers import Dense, Flatten, Reshape, Input, InputLayer,Conv2D,MaxPool2D,UpSampling2D,\\\n",
    "Conv2DTranspose,Cropping2D\n",
    "from tensorflow.keras.models import Sequential, Model\n",
    "from tensorflow.keras.callbacks import ModelCheckpoint\n",
    "\n",
    "from Autoencoder import *\n",
    "from make_video import *\n",
    "\n",
    "import cv2\n",
    "import os"
   ]
  },
  {
   "cell_type": "code",
   "execution_count": 6,
   "metadata": {},
   "outputs": [],
   "source": [
    "p_old=os.getcwd()"
   ]
  },
  {
   "cell_type": "code",
   "execution_count": 7,
   "metadata": {},
   "outputs": [],
   "source": [
    "p= r'C:\\Users\\saad\\Desktop\\Autoencoders\\Videos\\Results\\Bicycle_Frames'\n",
    "p = p.replace('\\\\','/')\n",
    "os.chdir(p)"
   ]
  },
  {
   "cell_type": "code",
   "execution_count": 29,
   "metadata": {},
   "outputs": [],
   "source": [
    "encoder = Sequential()\n",
    "encoder.add(InputLayer(img_shape))\n",
    "encoder.add(Dense(1,name='Dense1'))\n",
    "encoder.add(Reshape((encoder.get_layer('Dense1').output_shape[1],-1)))\n",
    "encoder.add(Dense(1,name='Dense2'))\n",
    "encoder.add(Flatten(name='EFlatten1'))\n",
    "encoder.add(Dense(512,name='Dense3'))\n",
    "\n"
   ]
  },
  {
   "cell_type": "code",
   "execution_count": 30,
   "metadata": {},
   "outputs": [
    {
     "name": "stdout",
     "output_type": "stream",
     "text": [
      "Model: \"sequential_9\"\n",
      "_________________________________________________________________\n",
      "Layer (type)                 Output Shape              Param #   \n",
      "=================================================================\n",
      "Dense1 (Dense)               (None, 480, 320, 1)       4         \n",
      "_________________________________________________________________\n",
      "reshape_6 (Reshape)          (None, 480, 320)          0         \n",
      "_________________________________________________________________\n",
      "Dense2 (Dense)               (None, 480, 1)            321       \n",
      "_________________________________________________________________\n",
      "EFlatten1 (Flatten)          (None, 480)               0         \n",
      "_________________________________________________________________\n",
      "Dense3 (Dense)               (None, 512)               246272    \n",
      "=================================================================\n",
      "Total params: 246,597\n",
      "Trainable params: 246,597\n",
      "Non-trainable params: 0\n",
      "_________________________________________________________________\n"
     ]
    }
   ],
   "source": [
    "encoder.summary()"
   ]
  },
  {
   "cell_type": "code",
   "execution_count": 40,
   "metadata": {},
   "outputs": [],
   "source": [
    "decoder = Sequential()\n",
    "decoder.add(InputLayer((512,)))\n",
    "decoder.add(Dense(encoder.get_layer('EFlatten1').output_shape[1]))\n",
    "decoder.add(Reshape((-1,1)))\n",
    "decoder.add(Dense(320))\n",
    "# decoder.add(Dense(np.prod(img_shape))) \n",
    "decoder.add(Reshape((480,320,1)))"
   ]
  },
  {
   "cell_type": "code",
   "execution_count": 41,
   "metadata": {},
   "outputs": [
    {
     "name": "stdout",
     "output_type": "stream",
     "text": [
      "Model: \"sequential_14\"\n",
      "_________________________________________________________________\n",
      "Layer (type)                 Output Shape              Param #   \n",
      "=================================================================\n",
      "dense_9 (Dense)              (None, 480)               246240    \n",
      "_________________________________________________________________\n",
      "reshape_10 (Reshape)         (None, 480, 1)            0         \n",
      "_________________________________________________________________\n",
      "dense_10 (Dense)             (None, 480, 320)          640       \n",
      "_________________________________________________________________\n",
      "reshape_11 (Reshape)         (None, 480, 320, 1)       0         \n",
      "=================================================================\n",
      "Total params: 246,880\n",
      "Trainable params: 246,880\n",
      "Non-trainable params: 0\n",
      "_________________________________________________________________\n"
     ]
    }
   ],
   "source": [
    "decoder.summary()"
   ]
  },
  {
   "cell_type": "code",
   "execution_count": 42,
   "metadata": {},
   "outputs": [],
   "source": [
    "# The encoder 1\n",
    "encoder1_1 = Input(img_shape,name='encoder1_input')\n",
    "encoder1_2 = Conv2D(filters=32,kernel_size=3,strides=2,padding='same',name='E1Layer1')(encoder1_1)\n",
    "encoder1_3 = Conv2D(filters=32,kernel_size=3,strides=2,padding='same',name='E1Layer2')(encoder1_2)\n",
    "encoder1_4 = Conv2D(filters=32,kernel_size=3,strides=2,padding='same',name='E1Layer3')(encoder1_3)\n",
    "encoder1_5 = Conv2D(filters=32,kernel_size=3,strides=2,padding='same',name='E1Layer4')(encoder1_4)\n",
    "\n",
    "encoder1 = Model(encoder1_1,encoder1_5)\n",
    "\n",
    "# The decoder 1\n",
    "decoder1_1 = Input(encoder1.get_layer('E1Layer4').output_shape[1:],name='decoder1_input')\n",
    "decoder1_2 = Conv2DTranspose(filters=32,kernel_size=3,strides=2,padding='same',name='D1Layer1')(decoder1_1)\n",
    "decoder1_3 = Conv2DTranspose(filters=32,kernel_size=3,strides=2,padding='same',name='D1Layer2')(decoder1_2)\n",
    "decoder1_4 = Conv2DTranspose(filters=32,kernel_size=3,strides=2,padding='same',name='D1Layer3')(decoder1_3)\n",
    "decoder1_5 = Conv2DTranspose(filters=3,kernel_size=3,strides=2,padding='same',name='D1Layer4')(decoder1_4)\n",
    "\n",
    "decoder1 = Model(decoder1_1,decoder1_5)"
   ]
  },
  {
   "cell_type": "code",
   "execution_count": 43,
   "metadata": {},
   "outputs": [
    {
     "name": "stdout",
     "output_type": "stream",
     "text": [
      "Model: \"functional_3\"\n",
      "_________________________________________________________________\n",
      "Layer (type)                 Output Shape              Param #   \n",
      "=================================================================\n",
      "decoder1_input (InputLayer)  [(None, 30, 20, 32)]      0         \n",
      "_________________________________________________________________\n",
      "D1Layer1 (Conv2DTranspose)   (None, 60, 40, 32)        9248      \n",
      "_________________________________________________________________\n",
      "D1Layer2 (Conv2DTranspose)   (None, 120, 80, 32)       9248      \n",
      "_________________________________________________________________\n",
      "D1Layer3 (Conv2DTranspose)   (None, 240, 160, 32)      9248      \n",
      "_________________________________________________________________\n",
      "D1Layer4 (Conv2DTranspose)   (None, 480, 320, 3)       867       \n",
      "=================================================================\n",
      "Total params: 28,611\n",
      "Trainable params: 28,611\n",
      "Non-trainable params: 0\n",
      "_________________________________________________________________\n"
     ]
    }
   ],
   "source": [
    "decoder1.summary()"
   ]
  },
  {
   "cell_type": "code",
   "execution_count": 44,
   "metadata": {},
   "outputs": [
    {
     "name": "stderr",
     "output_type": "stream",
     "text": [
      "100%|██████████████████████████████████████████████████████████████████████████████████| 10/10 [00:30<00:00,  3.01s/it]\n"
     ]
    }
   ],
   "source": [
    "from time import sleep\n",
    "from tqdm import tqdm\n",
    "for i in tqdm(range(10)):\n",
    "    sleep(3)"
   ]
  },
  {
   "cell_type": "code",
   "execution_count": null,
   "metadata": {},
   "outputs": [],
   "source": []
  }
 ],
 "metadata": {
  "kernelspec": {
   "display_name": "Python 3",
   "language": "python",
   "name": "python3"
  },
  "language_info": {
   "codemirror_mode": {
    "name": "ipython",
    "version": 3
   },
   "file_extension": ".py",
   "mimetype": "text/x-python",
   "name": "python",
   "nbconvert_exporter": "python",
   "pygments_lexer": "ipython3",
   "version": "3.7.9"
  }
 },
 "nbformat": 4,
 "nbformat_minor": 4
}
